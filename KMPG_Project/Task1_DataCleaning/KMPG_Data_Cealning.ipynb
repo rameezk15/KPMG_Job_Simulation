{
 "cells": [
  {
   "cell_type": "markdown",
   "id": "ab1eea50",
   "metadata": {},
   "source": [
    "## DATA SUMMARY\n",
    "\n",
    "This is a data set of `Sprocket Central Pty Ltd` a medium size bikes & cycling accessories organisation.\n",
    "\n",
    "`Sprocket Central Pty Ltd` needs help with its customer and transactions data. The organisation has a large dataset relating to its customers, but their team is unsure how to effectively analyse it to help optimise its marketing strategy.\n",
    "\n",
    "The `Sprocket Central Pty Ltd` provided with 3 datasets:\n",
    "- Customer Demographic \n",
    "- Customer Addresses\n",
    "- Transactions data in the past 3 months"
   ]
  },
  {
   "cell_type": "markdown",
   "id": "94112cfb",
   "metadata": {},
   "source": [
    "## Column descriptions\n",
    "\n",
    "#### **Table** -> `Transactions`:\n",
    "\n",
    "- `transaction_id`: Represents a unique identifier for each transaction. Each transaction, irrespective of the product or customer, has a distinct ID.\n",
    "- `product_id`: Represents a unique identifier for each product sold by the company. Helps in distinguishing each product type or variant.\n",
    "- `customer_id`: Represents a unique identifier for each customer making a purchase. This ID remains consistent across multiple transactions by the same customer.\n",
    "- `transaction_date`: Date on which the transaction was executed. Gives insights into when a product was sold.\n",
    "- `online_order`: Specifies if a transaction was made online or offline. Values are typically 'TRUE' for online and 'FALSE' for offline.\n",
    "- `order_status`: Describes the current status of the order, such as \"Approved\" or \"Cancelled\".\n",
    "- `brand`: Brand or manufacturer of the product involved in the transaction.\n",
    "- `product_line`: Categorizes products into specific lines or types, indicating the broader category to which a product belongs.\n",
    "- `product_class`: Classifies products based on certain characteristics or quality metrics. It can be High, medium, or low.\n",
    "- `product_size`: Indicates the size variant of the product, such as small, medium, or large.\n",
    "- `list_price`: The standard price at which the product is listed for sale to customers.\n",
    "- `standard_cost`: Represents the cost incurred by the company to produce or acquire the product. Useful for margin calculations.\n",
    "- `product_first_sold_date`: The date when the product was first sold or introduced in the market."
   ]
  },
  {
   "cell_type": "markdown",
   "id": "7860291b",
   "metadata": {},
   "source": [
    "#### **Table** -> `CustomerDemographic`:\n",
    "\n",
    "- `customer_id`: The unique identifier for each customer of Sprocket Central Pty Ltd, facilitating the identification of individual customers. This column contains alphanumeric data.\n",
    "- `first_name`: First Name of each customer.\n",
    "- `last_name`: Last Name of each customer.\n",
    "- `gender`: Gender of each customer at birth (Male or Female).\n",
    "- `past_3_years_bike_related_purchases`: The number of bike-related purchases made by each customer in the past 3 years.\n",
    "- `DOB`: This column represents the \"Date of Birth\" for each customer.\n",
    "- `job_title`: The job titles of each customer, indicating their respective professions or job roles.\n",
    "- `job_industry_category`: The name of the industry in which each customer is employed, providing information about their work sector.\n",
    "- `wealth_segment`: This column contains categorical data. It consists of labels or categories that classify customers into different wealth segments. The categories in this column represent the company way of grouping customers based on their financial circumstances, such as Mass Customer, Affluent Customer, and High Net Worth.\n",
    "- `deceased_indicator`: This column uses binary categorical data. When it contains 'Y,' it means that the customer is deceased (no longer alive), and when it contains 'N,' it indicates that the customer is not deceased (still alive).\n",
    "- `default`: Contains heterogeneous data types, including text, numbers, special characters, and non-standard formats.\n",
    "- `owns_car`: Specifies whether a customer owns a car with values 'Yes' or 'No'. This column contains categorical data.\n",
    "- `tenure`:  This column represents the length or duration of the customer's association with the company, typically expressed as a numerical value (e.g., the number of years)."
   ]
  },
  {
   "cell_type": "markdown",
   "id": "27e96aca",
   "metadata": {},
   "source": [
    "#### **Table** -> `CustomerAddress`:\n",
    "\n",
    "- `customer_id`: The unique identifier for each customer of Sprocket Central Pty Ltd, facilitating the identification of individual customers. This column contains alphanumeric data.\n",
    "- `address`: The main address for each customer.\n",
    "- `postcode`: The corresponding post code for the main address of each customer.\n",
    "- `state`:The corresponding state for the main address of each customer.\n",
    "- `country`: The corresponding country for the main address of each customer (all Australia for this Data).\n",
    "- `property_valuation`: Represents the valuation of the property that the customer resides in or owns. The property valuation ranges from 1 to 12."
   ]
  },
  {
   "cell_type": "markdown",
   "id": "cc0bc611",
   "metadata": {},
   "source": [
    "#### **Table** -> `NewCustomerList`:\n",
    "\n",
    "- `first_name`: First Name of each customer.\n",
    "- `last_name`: Last Name of each customer.\n",
    "- `gender`: Gender of each customer at birth (Male or Female).\n",
    "- `past_3_years_bike_related_purchases`: The number of bike-related purchases made by each customer in the past 3 years.\n",
    "- `DOB`: This column represents the \"Date of Birth\" for each customer.\n",
    "- `job_title`: The job titles of each customer, indicating their respective professions or job roles.\n",
    "- `job_industry_category`: The name of the industry in which each customer is employed, providing information about their work sector.\n",
    "- `wealth_segment`: This column contains categorical data. It consists of labels or categories that classify customers into different wealth segments. The categories in this column represent the company way of grouping customers based on their financial circumstances, such as Mass Customer, Affluent Customer, and High Net Worth.\n",
    "- `deceased_indicator`: This column uses binary categorical data. When it contains 'Y', it means that the customer is deceased (no longer alive), and when it contains 'N' it indicates that the customer is not deceased (still alive).\n",
    "- `owns_car`: Specifies whether a customer owns a car with values 'Yes' or 'No'. This column contains categorical data.\n",
    "- `tenure`:  This column represents the length or duration of the customer's association with the company, typically expressed as a numerical value (e.g., the number of years).\n",
    "- `address`: The main address for each customer.\n",
    "- `postcode`: The corresponding post code for the main address of each customer.\n",
    "- `state`:The corresponding state for the main address of each customer.\n",
    "- `country`: The corresponding country for the main address of each customer (all Australia for this Data).\n",
    "- `property_valuation`: Represents the valuation of the property that the customer resides in or owns. The property valuation ranges from 1 to 12.\n",
    "- `Rank`: Rank of a customers based on a Value column.Ranks are assigned from 1 to 1000.\n",
    "- `Value`: Represents a value score or metric for each customer. The exact context of this value is not provided. The value ranges from approximately 0.34 to 1.72."
   ]
  },
  {
   "cell_type": "markdown",
   "id": "85f0e559",
   "metadata": {},
   "source": [
    "# TASKS\n",
    "\n",
    "### `1st Task`\n",
    "Your task is to take a look at the following datasets provided by Sprocket Central Pty Ltd and identify all data quality issues. Once you've had a look at these datasets, draft an email to the client identifying all data quality issues.\n",
    "\n",
    "### `2nd Task`\n",
    "Create a PowerPoint presentation wihch outlines the approach we will be taking to identify which of the 1000 customers Sprocket Central Pty Ltd should target, based on this dataset. Explain the three phases:  Data Exploration; Model Development and Interpretation.\n",
    "\n",
    "### `3rd Task`\n",
    "Please develop a dashboard that we can present to the client at our next meeting. Display your data summary and results of the analysis in a dashboard (see tools/references for assistance). Specifically, your presentation should specify who Sprocket Central Pty Ltd' should be targeting out of the new 1000 customer list."
   ]
  },
  {
   "cell_type": "markdown",
   "id": "8e3e6ba9",
   "metadata": {},
   "source": [
    "# 1st Task\n",
    "\n",
    "Lets start the preliminary data exploration and identify ways to improve the quality of Sprocket Central Pty Ltd’s data.\n",
    "\n",
    "### Issues with the dataset\n",
    "\n",
    "1. Dirty Data\n",
    "\n",
    "    Table - `Transactions`\n",
    "      - online_order, order_status, brand, product_line, product_class, product_size columns need to be in category data type. `Validity`\n",
    "      - product_first_sold_date is in \"serial date\" convert them into date dtype `Validity`\n",
    "      - missing values in online_order(360), brand(197), product_line(197), product_class(197), product_size(197), standard_cost(197), product_first_sold_date(197) `Completeness`\n",
    "      - customer_id 5034 is extra is not avilable in main Customer Demographic table `Accuracy`\n",
    "      \n",
    "    Table - `CustomerDemographic`\n",
    "      - At customer_id= 1, 54, 57 wrong value is present as F, Femal and M respectively insted of Male and Female. `Consistency`\n",
    "      - DOB data type needs to be in datetime64 `Validity`\n",
    "      - n/a in job_industry_category col treated as nan `Validity`\n",
    "      - gender , job_industry_category, wealth_segment, deceased_indicator, owns_car columns needs to be in category data type to save memory `Validity`\n",
    "      - default contains heterogeneous data types need to drop `Validity`\n",
    "      - tenure is in float need to be in int `Validity`\n",
    "      - missing values in last_name(137), DOB(87), job_title(506), job_industry_category(656), default(302),tenure(87) `Completeness`\n",
    "      - remove the rows where deceased_indicator is Y because its not useful for our target marketing anlaysis. `Validity`\n",
    "      \n",
    "    Table - `CustomerAddress` \n",
    "      - state col sometimes contain full name and some times abbrivietation i.e. NSW as New South Wales and VIC as Victoria `Consistency`\n",
    "      - state columns needs to be in category data type to save memory `Validity`\n",
    "      - postcode and property_valuation in float need to be in int `Validity`\n",
    "      - customer_id 4001, 4002, 4003 is extra is not avilable in main Customer Demographic table `Accuracy`\n",
    "      \n",
    "    Table - `NewCustomerAddress` \n",
    "      - DOB data type needs to be in datetime64 `Validity`\n",
    "      - Hidden Unamed: 16, Unamed: 17, Unamed: 18, Unamed: 19, Unamed: 20 columns are found. These are the formula base columns. Use to calculate Value and Rank columns. `Accuracy`\n",
    "      - n/a in job_industry_category col treated as nan `Validity`\n",
    "      - missing value in last_name(29), DOB(17), job_title(106), job_industry_category(165) `Completeness`\n",
    "      - gender , job_industry_category, wealth_segment, deceased_indicator, owns_car, state columns needs to be in category data type to save memory `Validity`\n",
    "      - Assign proper customer IDs to the NewCustomerAddress table to make it usable for future analysis `Completeness`\n",
    "\n",
    "2. Messy Data\n",
    "\n",
    "    Table - `CustomerAddress`\n",
    "      - This table should not exist independently\n",
    "      \n",
    "    Table - `NewCustomerAddress`\n",
    "      - This table  cannot be used for analysis because it lacks a connection or relationship with the Transactions table (which is the Fact table)"
   ]
  },
  {
   "cell_type": "markdown",
   "id": "1d004806",
   "metadata": {},
   "source": [
    "### Automatic Assessment\n",
    "\n",
    "- head and tail\n",
    "- sample\n",
    "- info\n",
    "- isnull\n",
    "- duplicated\n",
    "- describe"
   ]
  },
  {
   "cell_type": "code",
   "execution_count": 2,
   "id": "4a324adf",
   "metadata": {},
   "outputs": [],
   "source": [
    "#Import the data into df\n",
    "import pandas as pd\n",
    "\n",
    "CustomerDemographic = pd.read_excel('KPMG_VI_New_raw_data_update_final.xlsx', sheet_name='CustomerDemographic', header = 1,dtype={'DOB': 'datetime64[ns]'})\n",
    "CustomerAddress = pd.read_excel('KPMG_VI_New_raw_data_update_final.xlsx', sheet_name='CustomerAddress', header = 1)\n",
    "NewCustomerList = pd.read_excel('KPMG_VI_New_raw_data_update_final.xlsx', sheet_name='NewCustomerList', header = 1,dtype={'DOB': 'datetime64[ns]'})\n",
    "Transactions = pd.read_excel('KPMG_VI_New_raw_data_update_final.xlsx', sheet_name='Transactions', header = 1)"
   ]
  },
  {
   "cell_type": "markdown",
   "id": "16ecbbb6",
   "metadata": {},
   "source": [
    "### Table -> `Transactions`"
   ]
  },
  {
   "cell_type": "code",
   "execution_count": 3,
   "id": "111ebcc6",
   "metadata": {},
   "outputs": [
    {
     "name": "stdout",
     "output_type": "stream",
     "text": [
      "<class 'pandas.core.frame.DataFrame'>\n",
      "RangeIndex: 20000 entries, 0 to 19999\n",
      "Data columns (total 13 columns):\n",
      " #   Column                   Non-Null Count  Dtype         \n",
      "---  ------                   --------------  -----         \n",
      " 0   transaction_id           20000 non-null  int64         \n",
      " 1   product_id               20000 non-null  int64         \n",
      " 2   customer_id              20000 non-null  int64         \n",
      " 3   transaction_date         20000 non-null  datetime64[ns]\n",
      " 4   online_order             19640 non-null  float64       \n",
      " 5   order_status             20000 non-null  object        \n",
      " 6   brand                    19803 non-null  object        \n",
      " 7   product_line             19803 non-null  object        \n",
      " 8   product_class            19803 non-null  object        \n",
      " 9   product_size             19803 non-null  object        \n",
      " 10  list_price               20000 non-null  float64       \n",
      " 11  standard_cost            19803 non-null  float64       \n",
      " 12  product_first_sold_date  19803 non-null  float64       \n",
      "dtypes: datetime64[ns](1), float64(4), int64(3), object(5)\n",
      "memory usage: 2.0+ MB\n"
     ]
    }
   ],
   "source": [
    "Transactions.info()"
   ]
  },
  {
   "cell_type": "code",
   "execution_count": 4,
   "id": "25c6bcfe",
   "metadata": {},
   "outputs": [
    {
     "data": {
      "text/plain": [
       "transaction_id               0\n",
       "product_id                   0\n",
       "customer_id                  0\n",
       "transaction_date             0\n",
       "online_order               360\n",
       "order_status                 0\n",
       "brand                      197\n",
       "product_line               197\n",
       "product_class              197\n",
       "product_size               197\n",
       "list_price                   0\n",
       "standard_cost              197\n",
       "product_first_sold_date    197\n",
       "dtype: int64"
      ]
     },
     "execution_count": 4,
     "metadata": {},
     "output_type": "execute_result"
    }
   ],
   "source": [
    "#Check missing values\n",
    "Transactions.isnull().sum()"
   ]
  },
  {
   "cell_type": "code",
   "execution_count": 5,
   "id": "c6fc92e3",
   "metadata": {},
   "outputs": [
    {
     "data": {
      "text/plain": [
       "0"
      ]
     },
     "execution_count": 5,
     "metadata": {},
     "output_type": "execute_result"
    }
   ],
   "source": [
    "#Unique Transaction ID\n",
    "Transactions['transaction_id'].duplicated().sum()"
   ]
  },
  {
   "cell_type": "code",
   "execution_count": 6,
   "id": "4d4559a6",
   "metadata": {},
   "outputs": [
    {
     "data": {
      "text/html": [
       "<div>\n",
       "<style scoped>\n",
       "    .dataframe tbody tr th:only-of-type {\n",
       "        vertical-align: middle;\n",
       "    }\n",
       "\n",
       "    .dataframe tbody tr th {\n",
       "        vertical-align: top;\n",
       "    }\n",
       "\n",
       "    .dataframe thead th {\n",
       "        text-align: right;\n",
       "    }\n",
       "</style>\n",
       "<table border=\"1\" class=\"dataframe\">\n",
       "  <thead>\n",
       "    <tr style=\"text-align: right;\">\n",
       "      <th></th>\n",
       "      <th>transaction_id</th>\n",
       "      <th>product_id</th>\n",
       "      <th>customer_id</th>\n",
       "      <th>online_order</th>\n",
       "      <th>list_price</th>\n",
       "      <th>standard_cost</th>\n",
       "      <th>product_first_sold_date</th>\n",
       "    </tr>\n",
       "  </thead>\n",
       "  <tbody>\n",
       "    <tr>\n",
       "      <th>count</th>\n",
       "      <td>20000.000000</td>\n",
       "      <td>20000.00000</td>\n",
       "      <td>20000.000000</td>\n",
       "      <td>19640.000000</td>\n",
       "      <td>20000.000000</td>\n",
       "      <td>19803.000000</td>\n",
       "      <td>19803.000000</td>\n",
       "    </tr>\n",
       "    <tr>\n",
       "      <th>mean</th>\n",
       "      <td>10000.500000</td>\n",
       "      <td>45.36465</td>\n",
       "      <td>1738.246050</td>\n",
       "      <td>0.500458</td>\n",
       "      <td>1107.829449</td>\n",
       "      <td>556.046951</td>\n",
       "      <td>38199.776549</td>\n",
       "    </tr>\n",
       "    <tr>\n",
       "      <th>std</th>\n",
       "      <td>5773.647028</td>\n",
       "      <td>30.75359</td>\n",
       "      <td>1011.951046</td>\n",
       "      <td>0.500013</td>\n",
       "      <td>582.825242</td>\n",
       "      <td>405.955660</td>\n",
       "      <td>2875.201110</td>\n",
       "    </tr>\n",
       "    <tr>\n",
       "      <th>min</th>\n",
       "      <td>1.000000</td>\n",
       "      <td>0.00000</td>\n",
       "      <td>1.000000</td>\n",
       "      <td>0.000000</td>\n",
       "      <td>12.010000</td>\n",
       "      <td>7.210000</td>\n",
       "      <td>33259.000000</td>\n",
       "    </tr>\n",
       "    <tr>\n",
       "      <th>25%</th>\n",
       "      <td>5000.750000</td>\n",
       "      <td>18.00000</td>\n",
       "      <td>857.750000</td>\n",
       "      <td>0.000000</td>\n",
       "      <td>575.270000</td>\n",
       "      <td>215.140000</td>\n",
       "      <td>35667.000000</td>\n",
       "    </tr>\n",
       "    <tr>\n",
       "      <th>50%</th>\n",
       "      <td>10000.500000</td>\n",
       "      <td>44.00000</td>\n",
       "      <td>1736.000000</td>\n",
       "      <td>1.000000</td>\n",
       "      <td>1163.890000</td>\n",
       "      <td>507.580000</td>\n",
       "      <td>38216.000000</td>\n",
       "    </tr>\n",
       "    <tr>\n",
       "      <th>75%</th>\n",
       "      <td>15000.250000</td>\n",
       "      <td>72.00000</td>\n",
       "      <td>2613.000000</td>\n",
       "      <td>1.000000</td>\n",
       "      <td>1635.300000</td>\n",
       "      <td>795.100000</td>\n",
       "      <td>40672.000000</td>\n",
       "    </tr>\n",
       "    <tr>\n",
       "      <th>max</th>\n",
       "      <td>20000.000000</td>\n",
       "      <td>100.00000</td>\n",
       "      <td>5034.000000</td>\n",
       "      <td>1.000000</td>\n",
       "      <td>2091.470000</td>\n",
       "      <td>1759.850000</td>\n",
       "      <td>42710.000000</td>\n",
       "    </tr>\n",
       "  </tbody>\n",
       "</table>\n",
       "</div>"
      ],
      "text/plain": [
       "       transaction_id   product_id   customer_id  online_order    list_price  \\\n",
       "count    20000.000000  20000.00000  20000.000000  19640.000000  20000.000000   \n",
       "mean     10000.500000     45.36465   1738.246050      0.500458   1107.829449   \n",
       "std       5773.647028     30.75359   1011.951046      0.500013    582.825242   \n",
       "min          1.000000      0.00000      1.000000      0.000000     12.010000   \n",
       "25%       5000.750000     18.00000    857.750000      0.000000    575.270000   \n",
       "50%      10000.500000     44.00000   1736.000000      1.000000   1163.890000   \n",
       "75%      15000.250000     72.00000   2613.000000      1.000000   1635.300000   \n",
       "max      20000.000000    100.00000   5034.000000      1.000000   2091.470000   \n",
       "\n",
       "       standard_cost  product_first_sold_date  \n",
       "count   19803.000000             19803.000000  \n",
       "mean      556.046951             38199.776549  \n",
       "std       405.955660              2875.201110  \n",
       "min         7.210000             33259.000000  \n",
       "25%       215.140000             35667.000000  \n",
       "50%       507.580000             38216.000000  \n",
       "75%       795.100000             40672.000000  \n",
       "max      1759.850000             42710.000000  "
      ]
     },
     "execution_count": 6,
     "metadata": {},
     "output_type": "execute_result"
    }
   ],
   "source": [
    "Transactions.describe()"
   ]
  },
  {
   "cell_type": "code",
   "execution_count": 7,
   "id": "bace7ee8",
   "metadata": {},
   "outputs": [
    {
     "data": {
      "text/html": [
       "<div>\n",
       "<style scoped>\n",
       "    .dataframe tbody tr th:only-of-type {\n",
       "        vertical-align: middle;\n",
       "    }\n",
       "\n",
       "    .dataframe tbody tr th {\n",
       "        vertical-align: top;\n",
       "    }\n",
       "\n",
       "    .dataframe thead th {\n",
       "        text-align: right;\n",
       "    }\n",
       "</style>\n",
       "<table border=\"1\" class=\"dataframe\">\n",
       "  <thead>\n",
       "    <tr style=\"text-align: right;\">\n",
       "      <th></th>\n",
       "      <th>transaction_id</th>\n",
       "      <th>product_id</th>\n",
       "      <th>customer_id</th>\n",
       "      <th>transaction_date</th>\n",
       "      <th>online_order</th>\n",
       "      <th>order_status</th>\n",
       "      <th>brand</th>\n",
       "      <th>product_line</th>\n",
       "      <th>product_class</th>\n",
       "      <th>product_size</th>\n",
       "      <th>...</th>\n",
       "      <th>gender</th>\n",
       "      <th>past_3_years_bike_related_purchases</th>\n",
       "      <th>DOB</th>\n",
       "      <th>job_title</th>\n",
       "      <th>job_industry_category</th>\n",
       "      <th>wealth_segment</th>\n",
       "      <th>deceased_indicator</th>\n",
       "      <th>default</th>\n",
       "      <th>owns_car</th>\n",
       "      <th>tenure</th>\n",
       "    </tr>\n",
       "  </thead>\n",
       "  <tbody>\n",
       "    <tr>\n",
       "      <th>8707</th>\n",
       "      <td>8708</td>\n",
       "      <td>0</td>\n",
       "      <td>5034</td>\n",
       "      <td>2017-10-07</td>\n",
       "      <td>0.0</td>\n",
       "      <td>Approved</td>\n",
       "      <td>Solex</td>\n",
       "      <td>Road</td>\n",
       "      <td>medium</td>\n",
       "      <td>medium</td>\n",
       "      <td>...</td>\n",
       "      <td>NaN</td>\n",
       "      <td>NaN</td>\n",
       "      <td>NaT</td>\n",
       "      <td>NaN</td>\n",
       "      <td>NaN</td>\n",
       "      <td>NaN</td>\n",
       "      <td>NaN</td>\n",
       "      <td>NaN</td>\n",
       "      <td>NaN</td>\n",
       "      <td>NaN</td>\n",
       "    </tr>\n",
       "    <tr>\n",
       "      <th>16700</th>\n",
       "      <td>16701</td>\n",
       "      <td>0</td>\n",
       "      <td>5034</td>\n",
       "      <td>2017-01-27</td>\n",
       "      <td>0.0</td>\n",
       "      <td>Approved</td>\n",
       "      <td>Norco Bicycles</td>\n",
       "      <td>Standard</td>\n",
       "      <td>medium</td>\n",
       "      <td>medium</td>\n",
       "      <td>...</td>\n",
       "      <td>NaN</td>\n",
       "      <td>NaN</td>\n",
       "      <td>NaT</td>\n",
       "      <td>NaN</td>\n",
       "      <td>NaN</td>\n",
       "      <td>NaN</td>\n",
       "      <td>NaN</td>\n",
       "      <td>NaN</td>\n",
       "      <td>NaN</td>\n",
       "      <td>NaN</td>\n",
       "    </tr>\n",
       "    <tr>\n",
       "      <th>17468</th>\n",
       "      <td>17469</td>\n",
       "      <td>0</td>\n",
       "      <td>5034</td>\n",
       "      <td>2017-01-03</td>\n",
       "      <td>0.0</td>\n",
       "      <td>Approved</td>\n",
       "      <td>OHM Cycles</td>\n",
       "      <td>Road</td>\n",
       "      <td>medium</td>\n",
       "      <td>medium</td>\n",
       "      <td>...</td>\n",
       "      <td>NaN</td>\n",
       "      <td>NaN</td>\n",
       "      <td>NaT</td>\n",
       "      <td>NaN</td>\n",
       "      <td>NaN</td>\n",
       "      <td>NaN</td>\n",
       "      <td>NaN</td>\n",
       "      <td>NaN</td>\n",
       "      <td>NaN</td>\n",
       "      <td>NaN</td>\n",
       "    </tr>\n",
       "    <tr>\n",
       "      <th>16422</th>\n",
       "      <td>16423</td>\n",
       "      <td>9</td>\n",
       "      <td>1</td>\n",
       "      <td>2017-12-09</td>\n",
       "      <td>1.0</td>\n",
       "      <td>Approved</td>\n",
       "      <td>OHM Cycles</td>\n",
       "      <td>Road</td>\n",
       "      <td>medium</td>\n",
       "      <td>medium</td>\n",
       "      <td>...</td>\n",
       "      <td>F</td>\n",
       "      <td>93.0</td>\n",
       "      <td>1953-10-12</td>\n",
       "      <td>Executive Secretary</td>\n",
       "      <td>Health</td>\n",
       "      <td>Mass Customer</td>\n",
       "      <td>N</td>\n",
       "      <td>\"'</td>\n",
       "      <td>Yes</td>\n",
       "      <td>11.0</td>\n",
       "    </tr>\n",
       "    <tr>\n",
       "      <th>3764</th>\n",
       "      <td>3765</td>\n",
       "      <td>38</td>\n",
       "      <td>1</td>\n",
       "      <td>2017-04-06</td>\n",
       "      <td>1.0</td>\n",
       "      <td>Approved</td>\n",
       "      <td>Solex</td>\n",
       "      <td>Standard</td>\n",
       "      <td>medium</td>\n",
       "      <td>medium</td>\n",
       "      <td>...</td>\n",
       "      <td>F</td>\n",
       "      <td>93.0</td>\n",
       "      <td>1953-10-12</td>\n",
       "      <td>Executive Secretary</td>\n",
       "      <td>Health</td>\n",
       "      <td>Mass Customer</td>\n",
       "      <td>N</td>\n",
       "      <td>\"'</td>\n",
       "      <td>Yes</td>\n",
       "      <td>11.0</td>\n",
       "    </tr>\n",
       "  </tbody>\n",
       "</table>\n",
       "<p>5 rows × 25 columns</p>\n",
       "</div>"
      ],
      "text/plain": [
       "       transaction_id  product_id  customer_id transaction_date  online_order  \\\n",
       "8707             8708           0         5034       2017-10-07           0.0   \n",
       "16700           16701           0         5034       2017-01-27           0.0   \n",
       "17468           17469           0         5034       2017-01-03           0.0   \n",
       "16422           16423           9            1       2017-12-09           1.0   \n",
       "3764             3765          38            1       2017-04-06           1.0   \n",
       "\n",
       "      order_status           brand product_line product_class product_size  \\\n",
       "8707      Approved           Solex         Road        medium       medium   \n",
       "16700     Approved  Norco Bicycles     Standard        medium       medium   \n",
       "17468     Approved      OHM Cycles         Road        medium       medium   \n",
       "16422     Approved      OHM Cycles         Road        medium       medium   \n",
       "3764      Approved           Solex     Standard        medium       medium   \n",
       "\n",
       "       ...  gender  past_3_years_bike_related_purchases        DOB  \\\n",
       "8707   ...     NaN                                  NaN        NaT   \n",
       "16700  ...     NaN                                  NaN        NaT   \n",
       "17468  ...     NaN                                  NaN        NaT   \n",
       "16422  ...       F                                 93.0 1953-10-12   \n",
       "3764   ...       F                                 93.0 1953-10-12   \n",
       "\n",
       "                 job_title job_industry_category wealth_segment  \\\n",
       "8707                   NaN                   NaN            NaN   \n",
       "16700                  NaN                   NaN            NaN   \n",
       "17468                  NaN                   NaN            NaN   \n",
       "16422  Executive Secretary                Health  Mass Customer   \n",
       "3764   Executive Secretary                Health  Mass Customer   \n",
       "\n",
       "       deceased_indicator default owns_car tenure  \n",
       "8707                  NaN     NaN      NaN    NaN  \n",
       "16700                 NaN     NaN      NaN    NaN  \n",
       "17468                 NaN     NaN      NaN    NaN  \n",
       "16422                   N      \"'      Yes   11.0  \n",
       "3764                    N      \"'      Yes   11.0  \n",
       "\n",
       "[5 rows x 25 columns]"
      ]
     },
     "execution_count": 7,
     "metadata": {},
     "output_type": "execute_result"
    }
   ],
   "source": [
    "#Check the customer_id of CustomerAddress present in CustomerDemographic table\n",
    "df = pd.merge(Transactions, CustomerDemographic, on = 'customer_id', how='left')\n",
    "\n",
    "df.sort_values(by = 'gender', na_position='first').head()"
   ]
  },
  {
   "cell_type": "markdown",
   "id": "44fbd468",
   "metadata": {},
   "source": [
    "### Table -> `CustomerDemographic`"
   ]
  },
  {
   "cell_type": "code",
   "execution_count": 8,
   "id": "b8afc4e2",
   "metadata": {},
   "outputs": [
    {
     "name": "stdout",
     "output_type": "stream",
     "text": [
      "<class 'pandas.core.frame.DataFrame'>\n",
      "RangeIndex: 4000 entries, 0 to 3999\n",
      "Data columns (total 13 columns):\n",
      " #   Column                               Non-Null Count  Dtype         \n",
      "---  ------                               --------------  -----         \n",
      " 0   customer_id                          4000 non-null   int64         \n",
      " 1   first_name                           4000 non-null   object        \n",
      " 2   last_name                            3875 non-null   object        \n",
      " 3   gender                               4000 non-null   object        \n",
      " 4   past_3_years_bike_related_purchases  4000 non-null   int64         \n",
      " 5   DOB                                  3913 non-null   datetime64[ns]\n",
      " 6   job_title                            3494 non-null   object        \n",
      " 7   job_industry_category                3344 non-null   object        \n",
      " 8   wealth_segment                       4000 non-null   object        \n",
      " 9   deceased_indicator                   4000 non-null   object        \n",
      " 10  default                              3698 non-null   object        \n",
      " 11  owns_car                             4000 non-null   object        \n",
      " 12  tenure                               3913 non-null   float64       \n",
      "dtypes: datetime64[ns](1), float64(1), int64(2), object(9)\n",
      "memory usage: 406.4+ KB\n"
     ]
    }
   ],
   "source": [
    "CustomerDemographic.info()"
   ]
  },
  {
   "cell_type": "code",
   "execution_count": 9,
   "id": "850a5fab",
   "metadata": {
    "scrolled": true
   },
   "outputs": [
    {
     "data": {
      "text/plain": [
       "customer_id                              0\n",
       "first_name                               0\n",
       "last_name                              125\n",
       "gender                                   0\n",
       "past_3_years_bike_related_purchases      0\n",
       "DOB                                     87\n",
       "job_title                              506\n",
       "job_industry_category                  656\n",
       "wealth_segment                           0\n",
       "deceased_indicator                       0\n",
       "default                                302\n",
       "owns_car                                 0\n",
       "tenure                                  87\n",
       "dtype: int64"
      ]
     },
     "execution_count": 9,
     "metadata": {},
     "output_type": "execute_result"
    }
   ],
   "source": [
    "#Check missing values\n",
    "CustomerDemographic.isnull().sum()"
   ]
  },
  {
   "cell_type": "code",
   "execution_count": 10,
   "id": "57f8a267",
   "metadata": {},
   "outputs": [
    {
     "data": {
      "text/plain": [
       "0"
      ]
     },
     "execution_count": 10,
     "metadata": {},
     "output_type": "execute_result"
    }
   ],
   "source": [
    "#Uniqe customer_id\n",
    "CustomerDemographic['customer_id'].duplicated().sum()"
   ]
  },
  {
   "cell_type": "code",
   "execution_count": 11,
   "id": "b2f19c99",
   "metadata": {},
   "outputs": [
    {
     "data": {
      "text/plain": [
       "Female    2037\n",
       "Male      1872\n",
       "U           88\n",
       "F            1\n",
       "Femal        1\n",
       "M            1\n",
       "Name: gender, dtype: int64"
      ]
     },
     "execution_count": 11,
     "metadata": {},
     "output_type": "execute_result"
    }
   ],
   "source": [
    "#Consistency issue\n",
    "CustomerDemographic['gender'].value_counts()"
   ]
  },
  {
   "cell_type": "code",
   "execution_count": 12,
   "id": "1c083459",
   "metadata": {},
   "outputs": [
    {
     "data": {
      "text/html": [
       "<div>\n",
       "<style scoped>\n",
       "    .dataframe tbody tr th:only-of-type {\n",
       "        vertical-align: middle;\n",
       "    }\n",
       "\n",
       "    .dataframe tbody tr th {\n",
       "        vertical-align: top;\n",
       "    }\n",
       "\n",
       "    .dataframe thead th {\n",
       "        text-align: right;\n",
       "    }\n",
       "</style>\n",
       "<table border=\"1\" class=\"dataframe\">\n",
       "  <thead>\n",
       "    <tr style=\"text-align: right;\">\n",
       "      <th></th>\n",
       "      <th>customer_id</th>\n",
       "      <th>first_name</th>\n",
       "      <th>last_name</th>\n",
       "      <th>gender</th>\n",
       "      <th>past_3_years_bike_related_purchases</th>\n",
       "      <th>DOB</th>\n",
       "      <th>job_title</th>\n",
       "      <th>job_industry_category</th>\n",
       "      <th>wealth_segment</th>\n",
       "      <th>deceased_indicator</th>\n",
       "      <th>default</th>\n",
       "      <th>owns_car</th>\n",
       "      <th>tenure</th>\n",
       "    </tr>\n",
       "  </thead>\n",
       "  <tbody>\n",
       "    <tr>\n",
       "      <th>0</th>\n",
       "      <td>1</td>\n",
       "      <td>Laraine</td>\n",
       "      <td>Medendorp</td>\n",
       "      <td>F</td>\n",
       "      <td>93</td>\n",
       "      <td>1953-10-12</td>\n",
       "      <td>Executive Secretary</td>\n",
       "      <td>Health</td>\n",
       "      <td>Mass Customer</td>\n",
       "      <td>N</td>\n",
       "      <td>\"'</td>\n",
       "      <td>Yes</td>\n",
       "      <td>11.0</td>\n",
       "    </tr>\n",
       "    <tr>\n",
       "      <th>53</th>\n",
       "      <td>54</td>\n",
       "      <td>Loralyn</td>\n",
       "      <td>Wonfor</td>\n",
       "      <td>Femal</td>\n",
       "      <td>2</td>\n",
       "      <td>1966-07-24</td>\n",
       "      <td>Sales Associate</td>\n",
       "      <td>Property</td>\n",
       "      <td>Mass Customer</td>\n",
       "      <td>N</td>\n",
       "      <td>-0.5</td>\n",
       "      <td>Yes</td>\n",
       "      <td>18.0</td>\n",
       "    </tr>\n",
       "    <tr>\n",
       "      <th>56</th>\n",
       "      <td>57</td>\n",
       "      <td>Abba</td>\n",
       "      <td>Masedon</td>\n",
       "      <td>M</td>\n",
       "      <td>87</td>\n",
       "      <td>1988-06-13</td>\n",
       "      <td>Chief Design Engineer</td>\n",
       "      <td>NaN</td>\n",
       "      <td>Mass Customer</td>\n",
       "      <td>N</td>\n",
       "      <td>100</td>\n",
       "      <td>Yes</td>\n",
       "      <td>13.0</td>\n",
       "    </tr>\n",
       "  </tbody>\n",
       "</table>\n",
       "</div>"
      ],
      "text/plain": [
       "    customer_id first_name  last_name gender  \\\n",
       "0             1    Laraine  Medendorp      F   \n",
       "53           54    Loralyn     Wonfor  Femal   \n",
       "56           57       Abba    Masedon      M   \n",
       "\n",
       "    past_3_years_bike_related_purchases        DOB              job_title  \\\n",
       "0                                    93 1953-10-12    Executive Secretary   \n",
       "53                                    2 1966-07-24        Sales Associate   \n",
       "56                                   87 1988-06-13  Chief Design Engineer   \n",
       "\n",
       "   job_industry_category wealth_segment deceased_indicator default owns_car  \\\n",
       "0                 Health  Mass Customer                  N      \"'      Yes   \n",
       "53              Property  Mass Customer                  N    -0.5      Yes   \n",
       "56                   NaN  Mass Customer                  N     100      Yes   \n",
       "\n",
       "    tenure  \n",
       "0     11.0  \n",
       "53    18.0  \n",
       "56    13.0  "
      ]
     },
     "execution_count": 12,
     "metadata": {},
     "output_type": "execute_result"
    }
   ],
   "source": [
    "CustomerDemographic[CustomerDemographic['gender'].isin(['M','F', 'Femal'])]"
   ]
  },
  {
   "cell_type": "code",
   "execution_count": 13,
   "id": "b5404330",
   "metadata": {},
   "outputs": [
    {
     "data": {
      "text/html": [
       "<div>\n",
       "<style scoped>\n",
       "    .dataframe tbody tr th:only-of-type {\n",
       "        vertical-align: middle;\n",
       "    }\n",
       "\n",
       "    .dataframe tbody tr th {\n",
       "        vertical-align: top;\n",
       "    }\n",
       "\n",
       "    .dataframe thead th {\n",
       "        text-align: right;\n",
       "    }\n",
       "</style>\n",
       "<table border=\"1\" class=\"dataframe\">\n",
       "  <thead>\n",
       "    <tr style=\"text-align: right;\">\n",
       "      <th></th>\n",
       "      <th>customer_id</th>\n",
       "      <th>past_3_years_bike_related_purchases</th>\n",
       "      <th>tenure</th>\n",
       "    </tr>\n",
       "  </thead>\n",
       "  <tbody>\n",
       "    <tr>\n",
       "      <th>count</th>\n",
       "      <td>4000.000000</td>\n",
       "      <td>4000.000000</td>\n",
       "      <td>3913.000000</td>\n",
       "    </tr>\n",
       "    <tr>\n",
       "      <th>mean</th>\n",
       "      <td>2000.500000</td>\n",
       "      <td>48.890000</td>\n",
       "      <td>10.657041</td>\n",
       "    </tr>\n",
       "    <tr>\n",
       "      <th>std</th>\n",
       "      <td>1154.844867</td>\n",
       "      <td>28.715005</td>\n",
       "      <td>5.660146</td>\n",
       "    </tr>\n",
       "    <tr>\n",
       "      <th>min</th>\n",
       "      <td>1.000000</td>\n",
       "      <td>0.000000</td>\n",
       "      <td>1.000000</td>\n",
       "    </tr>\n",
       "    <tr>\n",
       "      <th>25%</th>\n",
       "      <td>1000.750000</td>\n",
       "      <td>24.000000</td>\n",
       "      <td>6.000000</td>\n",
       "    </tr>\n",
       "    <tr>\n",
       "      <th>50%</th>\n",
       "      <td>2000.500000</td>\n",
       "      <td>48.000000</td>\n",
       "      <td>11.000000</td>\n",
       "    </tr>\n",
       "    <tr>\n",
       "      <th>75%</th>\n",
       "      <td>3000.250000</td>\n",
       "      <td>73.000000</td>\n",
       "      <td>15.000000</td>\n",
       "    </tr>\n",
       "    <tr>\n",
       "      <th>max</th>\n",
       "      <td>4000.000000</td>\n",
       "      <td>99.000000</td>\n",
       "      <td>22.000000</td>\n",
       "    </tr>\n",
       "  </tbody>\n",
       "</table>\n",
       "</div>"
      ],
      "text/plain": [
       "       customer_id  past_3_years_bike_related_purchases       tenure\n",
       "count  4000.000000                          4000.000000  3913.000000\n",
       "mean   2000.500000                            48.890000    10.657041\n",
       "std    1154.844867                            28.715005     5.660146\n",
       "min       1.000000                             0.000000     1.000000\n",
       "25%    1000.750000                            24.000000     6.000000\n",
       "50%    2000.500000                            48.000000    11.000000\n",
       "75%    3000.250000                            73.000000    15.000000\n",
       "max    4000.000000                            99.000000    22.000000"
      ]
     },
     "execution_count": 13,
     "metadata": {},
     "output_type": "execute_result"
    }
   ],
   "source": [
    "CustomerDemographic.describe()"
   ]
  },
  {
   "cell_type": "markdown",
   "id": "18e00bf0",
   "metadata": {},
   "source": [
    "### Table -> `CustomerAddress`"
   ]
  },
  {
   "cell_type": "code",
   "execution_count": 14,
   "id": "9de14c16",
   "metadata": {},
   "outputs": [
    {
     "name": "stdout",
     "output_type": "stream",
     "text": [
      "<class 'pandas.core.frame.DataFrame'>\n",
      "RangeIndex: 3999 entries, 0 to 3998\n",
      "Data columns (total 6 columns):\n",
      " #   Column              Non-Null Count  Dtype \n",
      "---  ------              --------------  ----- \n",
      " 0   customer_id         3999 non-null   int64 \n",
      " 1   address             3999 non-null   object\n",
      " 2   postcode            3999 non-null   int64 \n",
      " 3   state               3999 non-null   object\n",
      " 4   country             3999 non-null   object\n",
      " 5   property_valuation  3999 non-null   int64 \n",
      "dtypes: int64(3), object(3)\n",
      "memory usage: 187.6+ KB\n"
     ]
    }
   ],
   "source": [
    "CustomerAddress.info()"
   ]
  },
  {
   "cell_type": "code",
   "execution_count": 15,
   "id": "3d31b19e",
   "metadata": {},
   "outputs": [
    {
     "data": {
      "text/plain": [
       "0"
      ]
     },
     "execution_count": 15,
     "metadata": {},
     "output_type": "execute_result"
    }
   ],
   "source": [
    "#Uniqe customer_id\n",
    "CustomerAddress['customer_id'].duplicated().sum()"
   ]
  },
  {
   "cell_type": "code",
   "execution_count": 16,
   "id": "d212bb46",
   "metadata": {
    "scrolled": false
   },
   "outputs": [
    {
     "data": {
      "text/plain": [
       "NSW                2054\n",
       "VIC                 939\n",
       "QLD                 838\n",
       "New South Wales      86\n",
       "Victoria             82\n",
       "Name: state, dtype: int64"
      ]
     },
     "execution_count": 16,
     "metadata": {},
     "output_type": "execute_result"
    }
   ],
   "source": [
    "#Consistency issue\n",
    "CustomerAddress['state'].value_counts()"
   ]
  },
  {
   "cell_type": "code",
   "execution_count": 17,
   "id": "edfb2772",
   "metadata": {},
   "outputs": [
    {
     "data": {
      "text/html": [
       "<div>\n",
       "<style scoped>\n",
       "    .dataframe tbody tr th:only-of-type {\n",
       "        vertical-align: middle;\n",
       "    }\n",
       "\n",
       "    .dataframe tbody tr th {\n",
       "        vertical-align: top;\n",
       "    }\n",
       "\n",
       "    .dataframe thead th {\n",
       "        text-align: right;\n",
       "    }\n",
       "</style>\n",
       "<table border=\"1\" class=\"dataframe\">\n",
       "  <thead>\n",
       "    <tr style=\"text-align: right;\">\n",
       "      <th></th>\n",
       "      <th>customer_id</th>\n",
       "      <th>postcode</th>\n",
       "      <th>property_valuation</th>\n",
       "    </tr>\n",
       "  </thead>\n",
       "  <tbody>\n",
       "    <tr>\n",
       "      <th>count</th>\n",
       "      <td>3999.000000</td>\n",
       "      <td>3999.000000</td>\n",
       "      <td>3999.000000</td>\n",
       "    </tr>\n",
       "    <tr>\n",
       "      <th>mean</th>\n",
       "      <td>2003.987997</td>\n",
       "      <td>2985.755939</td>\n",
       "      <td>7.514379</td>\n",
       "    </tr>\n",
       "    <tr>\n",
       "      <th>std</th>\n",
       "      <td>1154.576912</td>\n",
       "      <td>844.878364</td>\n",
       "      <td>2.824663</td>\n",
       "    </tr>\n",
       "    <tr>\n",
       "      <th>min</th>\n",
       "      <td>1.000000</td>\n",
       "      <td>2000.000000</td>\n",
       "      <td>1.000000</td>\n",
       "    </tr>\n",
       "    <tr>\n",
       "      <th>25%</th>\n",
       "      <td>1004.500000</td>\n",
       "      <td>2200.000000</td>\n",
       "      <td>6.000000</td>\n",
       "    </tr>\n",
       "    <tr>\n",
       "      <th>50%</th>\n",
       "      <td>2004.000000</td>\n",
       "      <td>2768.000000</td>\n",
       "      <td>8.000000</td>\n",
       "    </tr>\n",
       "    <tr>\n",
       "      <th>75%</th>\n",
       "      <td>3003.500000</td>\n",
       "      <td>3750.000000</td>\n",
       "      <td>10.000000</td>\n",
       "    </tr>\n",
       "    <tr>\n",
       "      <th>max</th>\n",
       "      <td>4003.000000</td>\n",
       "      <td>4883.000000</td>\n",
       "      <td>12.000000</td>\n",
       "    </tr>\n",
       "  </tbody>\n",
       "</table>\n",
       "</div>"
      ],
      "text/plain": [
       "       customer_id     postcode  property_valuation\n",
       "count  3999.000000  3999.000000         3999.000000\n",
       "mean   2003.987997  2985.755939            7.514379\n",
       "std    1154.576912   844.878364            2.824663\n",
       "min       1.000000  2000.000000            1.000000\n",
       "25%    1004.500000  2200.000000            6.000000\n",
       "50%    2004.000000  2768.000000            8.000000\n",
       "75%    3003.500000  3750.000000           10.000000\n",
       "max    4003.000000  4883.000000           12.000000"
      ]
     },
     "execution_count": 17,
     "metadata": {},
     "output_type": "execute_result"
    }
   ],
   "source": [
    "CustomerAddress.describe()"
   ]
  },
  {
   "cell_type": "code",
   "execution_count": 18,
   "id": "5f1dcb0f",
   "metadata": {},
   "outputs": [
    {
     "data": {
      "text/html": [
       "<div>\n",
       "<style scoped>\n",
       "    .dataframe tbody tr th:only-of-type {\n",
       "        vertical-align: middle;\n",
       "    }\n",
       "\n",
       "    .dataframe tbody tr th {\n",
       "        vertical-align: top;\n",
       "    }\n",
       "\n",
       "    .dataframe thead th {\n",
       "        text-align: right;\n",
       "    }\n",
       "</style>\n",
       "<table border=\"1\" class=\"dataframe\">\n",
       "  <thead>\n",
       "    <tr style=\"text-align: right;\">\n",
       "      <th></th>\n",
       "      <th>customer_id</th>\n",
       "      <th>address</th>\n",
       "      <th>postcode</th>\n",
       "      <th>state</th>\n",
       "      <th>country</th>\n",
       "      <th>property_valuation</th>\n",
       "      <th>first_name</th>\n",
       "      <th>last_name</th>\n",
       "      <th>gender</th>\n",
       "      <th>past_3_years_bike_related_purchases</th>\n",
       "      <th>DOB</th>\n",
       "      <th>job_title</th>\n",
       "      <th>job_industry_category</th>\n",
       "      <th>wealth_segment</th>\n",
       "      <th>deceased_indicator</th>\n",
       "      <th>default</th>\n",
       "      <th>owns_car</th>\n",
       "      <th>tenure</th>\n",
       "    </tr>\n",
       "  </thead>\n",
       "  <tbody>\n",
       "    <tr>\n",
       "      <th>3996</th>\n",
       "      <td>4001</td>\n",
       "      <td>87 Crescent Oaks Alley</td>\n",
       "      <td>2756</td>\n",
       "      <td>NSW</td>\n",
       "      <td>Australia</td>\n",
       "      <td>10</td>\n",
       "      <td>NaN</td>\n",
       "      <td>NaN</td>\n",
       "      <td>NaN</td>\n",
       "      <td>NaN</td>\n",
       "      <td>NaT</td>\n",
       "      <td>NaN</td>\n",
       "      <td>NaN</td>\n",
       "      <td>NaN</td>\n",
       "      <td>NaN</td>\n",
       "      <td>NaN</td>\n",
       "      <td>NaN</td>\n",
       "      <td>NaN</td>\n",
       "    </tr>\n",
       "    <tr>\n",
       "      <th>3997</th>\n",
       "      <td>4002</td>\n",
       "      <td>8194 Lien Street</td>\n",
       "      <td>4032</td>\n",
       "      <td>QLD</td>\n",
       "      <td>Australia</td>\n",
       "      <td>7</td>\n",
       "      <td>NaN</td>\n",
       "      <td>NaN</td>\n",
       "      <td>NaN</td>\n",
       "      <td>NaN</td>\n",
       "      <td>NaT</td>\n",
       "      <td>NaN</td>\n",
       "      <td>NaN</td>\n",
       "      <td>NaN</td>\n",
       "      <td>NaN</td>\n",
       "      <td>NaN</td>\n",
       "      <td>NaN</td>\n",
       "      <td>NaN</td>\n",
       "    </tr>\n",
       "    <tr>\n",
       "      <th>3998</th>\n",
       "      <td>4003</td>\n",
       "      <td>320 Acker Drive</td>\n",
       "      <td>2251</td>\n",
       "      <td>NSW</td>\n",
       "      <td>Australia</td>\n",
       "      <td>7</td>\n",
       "      <td>NaN</td>\n",
       "      <td>NaN</td>\n",
       "      <td>NaN</td>\n",
       "      <td>NaN</td>\n",
       "      <td>NaT</td>\n",
       "      <td>NaN</td>\n",
       "      <td>NaN</td>\n",
       "      <td>NaN</td>\n",
       "      <td>NaN</td>\n",
       "      <td>NaN</td>\n",
       "      <td>NaN</td>\n",
       "      <td>NaN</td>\n",
       "    </tr>\n",
       "    <tr>\n",
       "      <th>0</th>\n",
       "      <td>1</td>\n",
       "      <td>060 Morning Avenue</td>\n",
       "      <td>2016</td>\n",
       "      <td>New South Wales</td>\n",
       "      <td>Australia</td>\n",
       "      <td>10</td>\n",
       "      <td>Laraine</td>\n",
       "      <td>Medendorp</td>\n",
       "      <td>F</td>\n",
       "      <td>93.0</td>\n",
       "      <td>1953-10-12</td>\n",
       "      <td>Executive Secretary</td>\n",
       "      <td>Health</td>\n",
       "      <td>Mass Customer</td>\n",
       "      <td>N</td>\n",
       "      <td>\"'</td>\n",
       "      <td>Yes</td>\n",
       "      <td>11.0</td>\n",
       "    </tr>\n",
       "    <tr>\n",
       "      <th>49</th>\n",
       "      <td>54</td>\n",
       "      <td>6 Homewood Avenue</td>\n",
       "      <td>2142</td>\n",
       "      <td>New South Wales</td>\n",
       "      <td>Australia</td>\n",
       "      <td>8</td>\n",
       "      <td>Loralyn</td>\n",
       "      <td>Wonfor</td>\n",
       "      <td>Femal</td>\n",
       "      <td>2.0</td>\n",
       "      <td>1966-07-24</td>\n",
       "      <td>Sales Associate</td>\n",
       "      <td>Property</td>\n",
       "      <td>Mass Customer</td>\n",
       "      <td>N</td>\n",
       "      <td>-0.5</td>\n",
       "      <td>Yes</td>\n",
       "      <td>18.0</td>\n",
       "    </tr>\n",
       "  </tbody>\n",
       "</table>\n",
       "</div>"
      ],
      "text/plain": [
       "      customer_id                 address  postcode            state  \\\n",
       "3996         4001  87 Crescent Oaks Alley      2756              NSW   \n",
       "3997         4002        8194 Lien Street      4032              QLD   \n",
       "3998         4003         320 Acker Drive      2251              NSW   \n",
       "0               1      060 Morning Avenue      2016  New South Wales   \n",
       "49             54       6 Homewood Avenue      2142  New South Wales   \n",
       "\n",
       "        country  property_valuation first_name  last_name gender  \\\n",
       "3996  Australia                  10        NaN        NaN    NaN   \n",
       "3997  Australia                   7        NaN        NaN    NaN   \n",
       "3998  Australia                   7        NaN        NaN    NaN   \n",
       "0     Australia                  10    Laraine  Medendorp      F   \n",
       "49    Australia                   8    Loralyn     Wonfor  Femal   \n",
       "\n",
       "      past_3_years_bike_related_purchases        DOB            job_title  \\\n",
       "3996                                  NaN        NaT                  NaN   \n",
       "3997                                  NaN        NaT                  NaN   \n",
       "3998                                  NaN        NaT                  NaN   \n",
       "0                                    93.0 1953-10-12  Executive Secretary   \n",
       "49                                    2.0 1966-07-24      Sales Associate   \n",
       "\n",
       "     job_industry_category wealth_segment deceased_indicator default owns_car  \\\n",
       "3996                   NaN            NaN                NaN     NaN      NaN   \n",
       "3997                   NaN            NaN                NaN     NaN      NaN   \n",
       "3998                   NaN            NaN                NaN     NaN      NaN   \n",
       "0                   Health  Mass Customer                  N      \"'      Yes   \n",
       "49                Property  Mass Customer                  N    -0.5      Yes   \n",
       "\n",
       "      tenure  \n",
       "3996     NaN  \n",
       "3997     NaN  \n",
       "3998     NaN  \n",
       "0       11.0  \n",
       "49      18.0  "
      ]
     },
     "execution_count": 18,
     "metadata": {},
     "output_type": "execute_result"
    }
   ],
   "source": [
    "#Check the customer_id of CustomerAddress present in CustomerDemographic table\n",
    "df = pd.merge(CustomerAddress, CustomerDemographic, on = 'customer_id', how='left')\n",
    "\n",
    "df.sort_values(by = 'gender', na_position='first').head()"
   ]
  },
  {
   "cell_type": "markdown",
   "id": "11f33b09",
   "metadata": {},
   "source": [
    "### Table -> `NewCustomerList`"
   ]
  },
  {
   "cell_type": "code",
   "execution_count": 19,
   "id": "744a686d",
   "metadata": {
    "scrolled": false
   },
   "outputs": [
    {
     "name": "stdout",
     "output_type": "stream",
     "text": [
      "<class 'pandas.core.frame.DataFrame'>\n",
      "RangeIndex: 1000 entries, 0 to 999\n",
      "Data columns (total 23 columns):\n",
      " #   Column                               Non-Null Count  Dtype         \n",
      "---  ------                               --------------  -----         \n",
      " 0   first_name                           1000 non-null   object        \n",
      " 1   last_name                            971 non-null    object        \n",
      " 2   gender                               1000 non-null   object        \n",
      " 3   past_3_years_bike_related_purchases  1000 non-null   int64         \n",
      " 4   DOB                                  983 non-null    datetime64[ns]\n",
      " 5   job_title                            894 non-null    object        \n",
      " 6   job_industry_category                835 non-null    object        \n",
      " 7   wealth_segment                       1000 non-null   object        \n",
      " 8   deceased_indicator                   1000 non-null   object        \n",
      " 9   owns_car                             1000 non-null   object        \n",
      " 10  tenure                               1000 non-null   int64         \n",
      " 11  address                              1000 non-null   object        \n",
      " 12  postcode                             1000 non-null   int64         \n",
      " 13  state                                1000 non-null   object        \n",
      " 14  country                              1000 non-null   object        \n",
      " 15  property_valuation                   1000 non-null   int64         \n",
      " 16  Unnamed: 16                          1000 non-null   float64       \n",
      " 17  Unnamed: 17                          1000 non-null   float64       \n",
      " 18  Unnamed: 18                          1000 non-null   float64       \n",
      " 19  Unnamed: 19                          1000 non-null   float64       \n",
      " 20  Unnamed: 20                          1000 non-null   int64         \n",
      " 21  Rank                                 1000 non-null   int64         \n",
      " 22  Value                                1000 non-null   float64       \n",
      "dtypes: datetime64[ns](1), float64(5), int64(6), object(11)\n",
      "memory usage: 179.8+ KB\n"
     ]
    }
   ],
   "source": [
    "NewCustomerList.info()"
   ]
  },
  {
   "cell_type": "code",
   "execution_count": 20,
   "id": "2da1f4e4",
   "metadata": {},
   "outputs": [
    {
     "data": {
      "text/plain": [
       "first_name                               0\n",
       "last_name                               29\n",
       "gender                                   0\n",
       "past_3_years_bike_related_purchases      0\n",
       "DOB                                     17\n",
       "job_title                              106\n",
       "job_industry_category                  165\n",
       "wealth_segment                           0\n",
       "deceased_indicator                       0\n",
       "owns_car                                 0\n",
       "tenure                                   0\n",
       "address                                  0\n",
       "postcode                                 0\n",
       "state                                    0\n",
       "country                                  0\n",
       "property_valuation                       0\n",
       "Unnamed: 16                              0\n",
       "Unnamed: 17                              0\n",
       "Unnamed: 18                              0\n",
       "Unnamed: 19                              0\n",
       "Unnamed: 20                              0\n",
       "Rank                                     0\n",
       "Value                                    0\n",
       "dtype: int64"
      ]
     },
     "execution_count": 20,
     "metadata": {},
     "output_type": "execute_result"
    }
   ],
   "source": [
    "#Check missing values\n",
    "NewCustomerList.isnull().sum()"
   ]
  },
  {
   "cell_type": "code",
   "execution_count": 21,
   "id": "fec35e50",
   "metadata": {},
   "outputs": [
    {
     "data": {
      "text/plain": [
       "0"
      ]
     },
     "execution_count": 21,
     "metadata": {},
     "output_type": "execute_result"
    }
   ],
   "source": [
    "#Uniqe customer combination of first_name and last_name\n",
    "NewCustomerList.duplicated(subset=['first_name','last_name']).sum() "
   ]
  },
  {
   "cell_type": "code",
   "execution_count": 22,
   "id": "81752541",
   "metadata": {},
   "outputs": [
    {
     "data": {
      "text/html": [
       "<div>\n",
       "<style scoped>\n",
       "    .dataframe tbody tr th:only-of-type {\n",
       "        vertical-align: middle;\n",
       "    }\n",
       "\n",
       "    .dataframe tbody tr th {\n",
       "        vertical-align: top;\n",
       "    }\n",
       "\n",
       "    .dataframe thead th {\n",
       "        text-align: right;\n",
       "    }\n",
       "</style>\n",
       "<table border=\"1\" class=\"dataframe\">\n",
       "  <thead>\n",
       "    <tr style=\"text-align: right;\">\n",
       "      <th></th>\n",
       "      <th>past_3_years_bike_related_purchases</th>\n",
       "      <th>tenure</th>\n",
       "      <th>postcode</th>\n",
       "      <th>property_valuation</th>\n",
       "      <th>Unnamed: 16</th>\n",
       "      <th>Unnamed: 17</th>\n",
       "      <th>Unnamed: 18</th>\n",
       "      <th>Unnamed: 19</th>\n",
       "      <th>Unnamed: 20</th>\n",
       "      <th>Rank</th>\n",
       "      <th>Value</th>\n",
       "    </tr>\n",
       "  </thead>\n",
       "  <tbody>\n",
       "    <tr>\n",
       "      <th>count</th>\n",
       "      <td>1000.000000</td>\n",
       "      <td>1000.000000</td>\n",
       "      <td>1000.000000</td>\n",
       "      <td>1000.000000</td>\n",
       "      <td>1000.000000</td>\n",
       "      <td>1000.000000</td>\n",
       "      <td>1000.000000</td>\n",
       "      <td>1000.000000</td>\n",
       "      <td>1000.000000</td>\n",
       "      <td>1000.000000</td>\n",
       "      <td>1000.000000</td>\n",
       "    </tr>\n",
       "    <tr>\n",
       "      <th>mean</th>\n",
       "      <td>49.836000</td>\n",
       "      <td>11.388000</td>\n",
       "      <td>3019.227000</td>\n",
       "      <td>7.397000</td>\n",
       "      <td>0.747340</td>\n",
       "      <td>0.839005</td>\n",
       "      <td>0.942673</td>\n",
       "      <td>0.870514</td>\n",
       "      <td>498.819000</td>\n",
       "      <td>498.819000</td>\n",
       "      <td>0.881714</td>\n",
       "    </tr>\n",
       "    <tr>\n",
       "      <th>std</th>\n",
       "      <td>27.796686</td>\n",
       "      <td>5.037145</td>\n",
       "      <td>848.895767</td>\n",
       "      <td>2.758804</td>\n",
       "      <td>0.205082</td>\n",
       "      <td>0.248858</td>\n",
       "      <td>0.294832</td>\n",
       "      <td>0.280891</td>\n",
       "      <td>288.810997</td>\n",
       "      <td>288.810997</td>\n",
       "      <td>0.293525</td>\n",
       "    </tr>\n",
       "    <tr>\n",
       "      <th>min</th>\n",
       "      <td>0.000000</td>\n",
       "      <td>0.000000</td>\n",
       "      <td>2000.000000</td>\n",
       "      <td>1.000000</td>\n",
       "      <td>0.400000</td>\n",
       "      <td>0.400000</td>\n",
       "      <td>0.400000</td>\n",
       "      <td>0.340000</td>\n",
       "      <td>1.000000</td>\n",
       "      <td>1.000000</td>\n",
       "      <td>0.340000</td>\n",
       "    </tr>\n",
       "    <tr>\n",
       "      <th>25%</th>\n",
       "      <td>26.750000</td>\n",
       "      <td>7.000000</td>\n",
       "      <td>2209.000000</td>\n",
       "      <td>6.000000</td>\n",
       "      <td>0.570000</td>\n",
       "      <td>0.637500</td>\n",
       "      <td>0.712500</td>\n",
       "      <td>0.658750</td>\n",
       "      <td>250.000000</td>\n",
       "      <td>250.000000</td>\n",
       "      <td>0.649531</td>\n",
       "    </tr>\n",
       "    <tr>\n",
       "      <th>50%</th>\n",
       "      <td>51.000000</td>\n",
       "      <td>11.000000</td>\n",
       "      <td>2800.000000</td>\n",
       "      <td>8.000000</td>\n",
       "      <td>0.750000</td>\n",
       "      <td>0.820000</td>\n",
       "      <td>0.912500</td>\n",
       "      <td>0.842625</td>\n",
       "      <td>500.000000</td>\n",
       "      <td>500.000000</td>\n",
       "      <td>0.860000</td>\n",
       "    </tr>\n",
       "    <tr>\n",
       "      <th>75%</th>\n",
       "      <td>72.000000</td>\n",
       "      <td>15.000000</td>\n",
       "      <td>3845.500000</td>\n",
       "      <td>9.000000</td>\n",
       "      <td>0.920000</td>\n",
       "      <td>1.031875</td>\n",
       "      <td>1.142969</td>\n",
       "      <td>1.062500</td>\n",
       "      <td>750.250000</td>\n",
       "      <td>750.250000</td>\n",
       "      <td>1.075000</td>\n",
       "    </tr>\n",
       "    <tr>\n",
       "      <th>max</th>\n",
       "      <td>99.000000</td>\n",
       "      <td>22.000000</td>\n",
       "      <td>4879.000000</td>\n",
       "      <td>12.000000</td>\n",
       "      <td>1.100000</td>\n",
       "      <td>1.375000</td>\n",
       "      <td>1.718750</td>\n",
       "      <td>1.718750</td>\n",
       "      <td>1000.000000</td>\n",
       "      <td>1000.000000</td>\n",
       "      <td>1.718750</td>\n",
       "    </tr>\n",
       "  </tbody>\n",
       "</table>\n",
       "</div>"
      ],
      "text/plain": [
       "       past_3_years_bike_related_purchases       tenure     postcode  \\\n",
       "count                          1000.000000  1000.000000  1000.000000   \n",
       "mean                             49.836000    11.388000  3019.227000   \n",
       "std                              27.796686     5.037145   848.895767   \n",
       "min                               0.000000     0.000000  2000.000000   \n",
       "25%                              26.750000     7.000000  2209.000000   \n",
       "50%                              51.000000    11.000000  2800.000000   \n",
       "75%                              72.000000    15.000000  3845.500000   \n",
       "max                              99.000000    22.000000  4879.000000   \n",
       "\n",
       "       property_valuation  Unnamed: 16  Unnamed: 17  Unnamed: 18  Unnamed: 19  \\\n",
       "count         1000.000000  1000.000000  1000.000000  1000.000000  1000.000000   \n",
       "mean             7.397000     0.747340     0.839005     0.942673     0.870514   \n",
       "std              2.758804     0.205082     0.248858     0.294832     0.280891   \n",
       "min              1.000000     0.400000     0.400000     0.400000     0.340000   \n",
       "25%              6.000000     0.570000     0.637500     0.712500     0.658750   \n",
       "50%              8.000000     0.750000     0.820000     0.912500     0.842625   \n",
       "75%              9.000000     0.920000     1.031875     1.142969     1.062500   \n",
       "max             12.000000     1.100000     1.375000     1.718750     1.718750   \n",
       "\n",
       "       Unnamed: 20         Rank        Value  \n",
       "count  1000.000000  1000.000000  1000.000000  \n",
       "mean    498.819000   498.819000     0.881714  \n",
       "std     288.810997   288.810997     0.293525  \n",
       "min       1.000000     1.000000     0.340000  \n",
       "25%     250.000000   250.000000     0.649531  \n",
       "50%     500.000000   500.000000     0.860000  \n",
       "75%     750.250000   750.250000     1.075000  \n",
       "max    1000.000000  1000.000000     1.718750  "
      ]
     },
     "execution_count": 22,
     "metadata": {},
     "output_type": "execute_result"
    }
   ],
   "source": [
    "NewCustomerList.describe()"
   ]
  },
  {
   "cell_type": "markdown",
   "id": "454f89ea",
   "metadata": {},
   "source": [
    "### I use this Data Quality Dimensions\n",
    "\n",
    "- Completeness -> is data missing?\n",
    "- Validity -> is data invalid -> negative height -> duplicate patient id\n",
    "- Accuracy -> data is valid but not accurate -> weight -> 1kg\n",
    "- Consistency -> both valid and accurate but written differently -> New Youk and NY"
   ]
  },
  {
   "cell_type": "markdown",
   "id": "50d28d78",
   "metadata": {},
   "source": [
    "### Order of severity\n",
    "\n",
    "Completeness <- Validity <- Accuracy <- Consistency"
   ]
  },
  {
   "cell_type": "markdown",
   "id": "8e68b10d",
   "metadata": {},
   "source": [
    "# Data Cleaning Order\n",
    "\n",
    "1. Quality -> Completeness\n",
    "2. Tidiness\n",
    "3. Quality -> Validity\n",
    "4. Quality -> Accuracy\n",
    "5. Quality -> Consistency\n",
    "\n",
    "#### Steps involved in Data cleaning\n",
    "- Define\n",
    "- Code\n",
    "- Test"
   ]
  },
  {
   "cell_type": "code",
   "execution_count": 42,
   "id": "672b60e2",
   "metadata": {},
   "outputs": [],
   "source": [
    "#Create a copy of your pandas dataframe before you start the cleaning process\n",
    "CustomerDemographic_df = CustomerDemographic\n",
    "CustomerAddress_df = CustomerAddress\n",
    "Transactions_df = Transactions\n",
    "NewCustomerList_df = NewCustomerList"
   ]
  },
  {
   "cell_type": "markdown",
   "id": "58a26a9e",
   "metadata": {},
   "source": [
    "### Define\n",
    "- Perform a left merge between the CustomerDemographic_df and CustomerAddress_df DataFrames, and remove unnecessary columns. Synchronize both tables.\n",
    "- replace a null value of str or object col with 'no data' and drop a null value of numerical or date col in CustomerDemographic_df which is (2.28%) of overall data\n",
    "- change data-type into proper data-type to save memory and consistancy\n",
    "- drop default column is not use in analysis.\n",
    "- remove the consistency issue with the help of replace function\n",
    "- remove the rows where deceased_indicator is Y because its not useful for our target marketing anlaysis.\n",
    "- Only one 'U' is remain after above cleaning. So, I assume the value of U as \"Male\" because of his name \"Jephthah Bachmann\"\n",
    "\n",
    "### Achive\n",
    "- After data cleaning, I was able to save 30% of memory in CustomerDemographic_df (CustomerDemographic_df+CustomerAddress_df) table"
   ]
  },
  {
   "cell_type": "code",
   "execution_count": 43,
   "id": "ecf198dc",
   "metadata": {},
   "outputs": [],
   "source": [
    "#code\n",
    "CustomerDemographic_df = pd.merge(CustomerDemographic_df, CustomerAddress_df, on ='customer_id', how = 'left')"
   ]
  },
  {
   "cell_type": "code",
   "execution_count": 44,
   "id": "174688e5",
   "metadata": {},
   "outputs": [
    {
     "data": {
      "text/html": [
       "<div>\n",
       "<style scoped>\n",
       "    .dataframe tbody tr th:only-of-type {\n",
       "        vertical-align: middle;\n",
       "    }\n",
       "\n",
       "    .dataframe tbody tr th {\n",
       "        vertical-align: top;\n",
       "    }\n",
       "\n",
       "    .dataframe thead th {\n",
       "        text-align: right;\n",
       "    }\n",
       "</style>\n",
       "<table border=\"1\" class=\"dataframe\">\n",
       "  <thead>\n",
       "    <tr style=\"text-align: right;\">\n",
       "      <th></th>\n",
       "      <th>customer_id</th>\n",
       "      <th>first_name</th>\n",
       "      <th>last_name</th>\n",
       "      <th>gender</th>\n",
       "      <th>past_3_years_bike_related_purchases</th>\n",
       "      <th>DOB</th>\n",
       "      <th>job_title</th>\n",
       "      <th>job_industry_category</th>\n",
       "      <th>wealth_segment</th>\n",
       "      <th>deceased_indicator</th>\n",
       "      <th>default</th>\n",
       "      <th>owns_car</th>\n",
       "      <th>tenure</th>\n",
       "      <th>address</th>\n",
       "      <th>postcode</th>\n",
       "      <th>state</th>\n",
       "      <th>country</th>\n",
       "      <th>property_valuation</th>\n",
       "    </tr>\n",
       "  </thead>\n",
       "  <tbody>\n",
       "    <tr>\n",
       "      <th>0</th>\n",
       "      <td>1</td>\n",
       "      <td>Laraine</td>\n",
       "      <td>Medendorp</td>\n",
       "      <td>F</td>\n",
       "      <td>93</td>\n",
       "      <td>1953-10-12</td>\n",
       "      <td>Executive Secretary</td>\n",
       "      <td>Health</td>\n",
       "      <td>Mass Customer</td>\n",
       "      <td>N</td>\n",
       "      <td>\"'</td>\n",
       "      <td>Yes</td>\n",
       "      <td>11.0</td>\n",
       "      <td>060 Morning Avenue</td>\n",
       "      <td>2016.0</td>\n",
       "      <td>New South Wales</td>\n",
       "      <td>Australia</td>\n",
       "      <td>10.0</td>\n",
       "    </tr>\n",
       "    <tr>\n",
       "      <th>1</th>\n",
       "      <td>2</td>\n",
       "      <td>Eli</td>\n",
       "      <td>Bockman</td>\n",
       "      <td>Male</td>\n",
       "      <td>81</td>\n",
       "      <td>1980-12-16</td>\n",
       "      <td>Administrative Officer</td>\n",
       "      <td>Financial Services</td>\n",
       "      <td>Mass Customer</td>\n",
       "      <td>N</td>\n",
       "      <td>&lt;script&gt;alert('hi')&lt;/script&gt;</td>\n",
       "      <td>Yes</td>\n",
       "      <td>16.0</td>\n",
       "      <td>6 Meadow Vale Court</td>\n",
       "      <td>2153.0</td>\n",
       "      <td>New South Wales</td>\n",
       "      <td>Australia</td>\n",
       "      <td>10.0</td>\n",
       "    </tr>\n",
       "    <tr>\n",
       "      <th>2</th>\n",
       "      <td>3</td>\n",
       "      <td>Arlin</td>\n",
       "      <td>Dearle</td>\n",
       "      <td>Male</td>\n",
       "      <td>61</td>\n",
       "      <td>1954-01-20</td>\n",
       "      <td>Recruiting Manager</td>\n",
       "      <td>Property</td>\n",
       "      <td>Mass Customer</td>\n",
       "      <td>N</td>\n",
       "      <td>2018-02-01 00:00:00</td>\n",
       "      <td>Yes</td>\n",
       "      <td>15.0</td>\n",
       "      <td>NaN</td>\n",
       "      <td>NaN</td>\n",
       "      <td>NaN</td>\n",
       "      <td>NaN</td>\n",
       "      <td>NaN</td>\n",
       "    </tr>\n",
       "  </tbody>\n",
       "</table>\n",
       "</div>"
      ],
      "text/plain": [
       "   customer_id first_name  last_name gender  \\\n",
       "0            1    Laraine  Medendorp      F   \n",
       "1            2        Eli    Bockman   Male   \n",
       "2            3      Arlin     Dearle   Male   \n",
       "\n",
       "   past_3_years_bike_related_purchases        DOB               job_title  \\\n",
       "0                                   93 1953-10-12     Executive Secretary   \n",
       "1                                   81 1980-12-16  Administrative Officer   \n",
       "2                                   61 1954-01-20      Recruiting Manager   \n",
       "\n",
       "  job_industry_category wealth_segment deceased_indicator  \\\n",
       "0                Health  Mass Customer                  N   \n",
       "1    Financial Services  Mass Customer                  N   \n",
       "2              Property  Mass Customer                  N   \n",
       "\n",
       "                        default owns_car  tenure              address  \\\n",
       "0                            \"'      Yes    11.0   060 Morning Avenue   \n",
       "1  <script>alert('hi')</script>      Yes    16.0  6 Meadow Vale Court   \n",
       "2           2018-02-01 00:00:00      Yes    15.0                  NaN   \n",
       "\n",
       "   postcode            state    country  property_valuation  \n",
       "0    2016.0  New South Wales  Australia                10.0  \n",
       "1    2153.0  New South Wales  Australia                10.0  \n",
       "2       NaN              NaN        NaN                 NaN  "
      ]
     },
     "execution_count": 44,
     "metadata": {},
     "output_type": "execute_result"
    }
   ],
   "source": [
    "#test\n",
    "CustomerDemographic_df.head(3)"
   ]
  },
  {
   "cell_type": "code",
   "execution_count": 45,
   "id": "3b2d3e7f",
   "metadata": {},
   "outputs": [
    {
     "name": "stdout",
     "output_type": "stream",
     "text": [
      "<class 'pandas.core.frame.DataFrame'>\n",
      "Int64Index: 4000 entries, 0 to 3999\n",
      "Data columns (total 18 columns):\n",
      " #   Column                               Non-Null Count  Dtype         \n",
      "---  ------                               --------------  -----         \n",
      " 0   customer_id                          4000 non-null   int64         \n",
      " 1   first_name                           4000 non-null   object        \n",
      " 2   last_name                            3875 non-null   object        \n",
      " 3   gender                               4000 non-null   object        \n",
      " 4   past_3_years_bike_related_purchases  4000 non-null   int64         \n",
      " 5   DOB                                  3913 non-null   datetime64[ns]\n",
      " 6   job_title                            3494 non-null   object        \n",
      " 7   job_industry_category                3344 non-null   object        \n",
      " 8   wealth_segment                       4000 non-null   object        \n",
      " 9   deceased_indicator                   4000 non-null   object        \n",
      " 10  default                              3698 non-null   object        \n",
      " 11  owns_car                             4000 non-null   object        \n",
      " 12  tenure                               3913 non-null   float64       \n",
      " 13  address                              3996 non-null   object        \n",
      " 14  postcode                             3996 non-null   float64       \n",
      " 15  state                                3996 non-null   object        \n",
      " 16  country                              3996 non-null   object        \n",
      " 17  property_valuation                   3996 non-null   float64       \n",
      "dtypes: datetime64[ns](1), float64(3), int64(2), object(12)\n",
      "memory usage: 593.8+ KB\n"
     ]
    }
   ],
   "source": [
    "CustomerDemographic_df.info()"
   ]
  },
  {
   "cell_type": "code",
   "execution_count": 46,
   "id": "8268115c",
   "metadata": {},
   "outputs": [],
   "source": [
    "#code\n",
    "\n",
    "#replace a null value of str or object col\n",
    "CustomerDemographic_df[['last_name', 'job_title', 'job_industry_category', 'default']] = CustomerDemographic_df[['last_name', 'job_title', 'job_industry_category', 'default']].fillna('no data')\n",
    "#drop a null value of numerical or date col\n",
    "CustomerDemographic_df=CustomerDemographic_df.dropna()"
   ]
  },
  {
   "cell_type": "code",
   "execution_count": 47,
   "id": "6e975fe5",
   "metadata": {},
   "outputs": [
    {
     "data": {
      "text/plain": [
       "customer_id                            0\n",
       "first_name                             0\n",
       "last_name                              0\n",
       "gender                                 0\n",
       "past_3_years_bike_related_purchases    0\n",
       "DOB                                    0\n",
       "job_title                              0\n",
       "job_industry_category                  0\n",
       "wealth_segment                         0\n",
       "deceased_indicator                     0\n",
       "default                                0\n",
       "owns_car                               0\n",
       "tenure                                 0\n",
       "address                                0\n",
       "postcode                               0\n",
       "state                                  0\n",
       "country                                0\n",
       "property_valuation                     0\n",
       "dtype: int64"
      ]
     },
     "execution_count": 47,
     "metadata": {},
     "output_type": "execute_result"
    }
   ],
   "source": [
    "#test\n",
    "CustomerDemographic_df.isnull().sum()"
   ]
  },
  {
   "cell_type": "code",
   "execution_count": 48,
   "id": "ba7661d9",
   "metadata": {},
   "outputs": [],
   "source": [
    "#code\n",
    "dtype_C = {'gender': 'category', 'job_industry_category': 'category', 'wealth_segment': 'category',\n",
    "         'owns_car': 'category', 'state': 'category',\n",
    "            'tenure': int,'postcode': int,'property_valuation': int}\n",
    "\n",
    "CustomerDemographic_df = CustomerDemographic_df.astype(dtype_C)\n"
   ]
  },
  {
   "cell_type": "code",
   "execution_count": 49,
   "id": "4a5b3e0e",
   "metadata": {},
   "outputs": [
    {
     "name": "stdout",
     "output_type": "stream",
     "text": [
      "<class 'pandas.core.frame.DataFrame'>\n",
      "Int64Index: 3909 entries, 0 to 3999\n",
      "Data columns (total 18 columns):\n",
      " #   Column                               Non-Null Count  Dtype         \n",
      "---  ------                               --------------  -----         \n",
      " 0   customer_id                          3909 non-null   int64         \n",
      " 1   first_name                           3909 non-null   object        \n",
      " 2   last_name                            3909 non-null   object        \n",
      " 3   gender                               3909 non-null   category      \n",
      " 4   past_3_years_bike_related_purchases  3909 non-null   int64         \n",
      " 5   DOB                                  3909 non-null   datetime64[ns]\n",
      " 6   job_title                            3909 non-null   object        \n",
      " 7   job_industry_category                3909 non-null   category      \n",
      " 8   wealth_segment                       3909 non-null   category      \n",
      " 9   deceased_indicator                   3909 non-null   object        \n",
      " 10  default                              3909 non-null   object        \n",
      " 11  owns_car                             3909 non-null   category      \n",
      " 12  tenure                               3909 non-null   int64         \n",
      " 13  address                              3909 non-null   object        \n",
      " 14  postcode                             3909 non-null   int64         \n",
      " 15  state                                3909 non-null   category      \n",
      " 16  country                              3909 non-null   object        \n",
      " 17  property_valuation                   3909 non-null   int64         \n",
      "dtypes: category(5), datetime64[ns](1), int64(5), object(7)\n",
      "memory usage: 447.7+ KB\n"
     ]
    }
   ],
   "source": [
    "#test\n",
    "CustomerDemographic_df.info()"
   ]
  },
  {
   "cell_type": "code",
   "execution_count": 50,
   "id": "898db483",
   "metadata": {},
   "outputs": [],
   "source": [
    "#code\n",
    "CustomerDemographic_df.drop(columns='default', inplace=True)"
   ]
  },
  {
   "cell_type": "code",
   "execution_count": 51,
   "id": "b2f0fdd3",
   "metadata": {},
   "outputs": [
    {
     "name": "stdout",
     "output_type": "stream",
     "text": [
      "<class 'pandas.core.frame.DataFrame'>\n",
      "Int64Index: 3909 entries, 0 to 3999\n",
      "Data columns (total 17 columns):\n",
      " #   Column                               Non-Null Count  Dtype         \n",
      "---  ------                               --------------  -----         \n",
      " 0   customer_id                          3909 non-null   int64         \n",
      " 1   first_name                           3909 non-null   object        \n",
      " 2   last_name                            3909 non-null   object        \n",
      " 3   gender                               3909 non-null   category      \n",
      " 4   past_3_years_bike_related_purchases  3909 non-null   int64         \n",
      " 5   DOB                                  3909 non-null   datetime64[ns]\n",
      " 6   job_title                            3909 non-null   object        \n",
      " 7   job_industry_category                3909 non-null   category      \n",
      " 8   wealth_segment                       3909 non-null   category      \n",
      " 9   deceased_indicator                   3909 non-null   object        \n",
      " 10  owns_car                             3909 non-null   category      \n",
      " 11  tenure                               3909 non-null   int64         \n",
      " 12  address                              3909 non-null   object        \n",
      " 13  postcode                             3909 non-null   int64         \n",
      " 14  state                                3909 non-null   category      \n",
      " 15  country                              3909 non-null   object        \n",
      " 16  property_valuation                   3909 non-null   int64         \n",
      "dtypes: category(5), datetime64[ns](1), int64(5), object(6)\n",
      "memory usage: 417.1+ KB\n"
     ]
    }
   ],
   "source": [
    "#test\n",
    "CustomerDemographic_df.info()"
   ]
  },
  {
   "cell_type": "code",
   "execution_count": 62,
   "id": "8b34e2e8",
   "metadata": {},
   "outputs": [],
   "source": [
    "#code\n",
    "index_di=CustomerDemographic_df[CustomerDemographic_df['deceased_indicator']=='Y'].index\n",
    "CustomerDemographic_df=CustomerDemographic_df.drop(index_di)"
   ]
  },
  {
   "cell_type": "code",
   "execution_count": 63,
   "id": "462fb946",
   "metadata": {},
   "outputs": [
    {
     "data": {
      "text/plain": [
       "N    3907\n",
       "Name: deceased_indicator, dtype: int64"
      ]
     },
     "execution_count": 63,
     "metadata": {},
     "output_type": "execute_result"
    }
   ],
   "source": [
    "#test\n",
    "CustomerDemographic_df['deceased_indicator'].value_counts()"
   ]
  },
  {
   "cell_type": "code",
   "execution_count": 66,
   "id": "031711c0",
   "metadata": {},
   "outputs": [
    {
     "data": {
      "text/plain": [
       "Female    2034\n",
       "Male      1869\n",
       "F            1\n",
       "Femal        1\n",
       "M            1\n",
       "U            1\n",
       "Name: gender, dtype: int64"
      ]
     },
     "execution_count": 66,
     "metadata": {},
     "output_type": "execute_result"
    }
   ],
   "source": [
    "CustomerDemographic_df['gender'].value_counts()"
   ]
  },
  {
   "cell_type": "code",
   "execution_count": 67,
   "id": "a9f38a2e",
   "metadata": {},
   "outputs": [],
   "source": [
    "#code \n",
    "CustomerDemographic_df['gender'].replace({'F':'Female', 'Femal': 'Female', 'M': 'Male', 'U': 'Male'}, inplace=True)"
   ]
  },
  {
   "cell_type": "code",
   "execution_count": 68,
   "id": "49ab64c6",
   "metadata": {},
   "outputs": [
    {
     "data": {
      "text/plain": [
       "Female    2036\n",
       "Male      1871\n",
       "Name: gender, dtype: int64"
      ]
     },
     "execution_count": 68,
     "metadata": {},
     "output_type": "execute_result"
    }
   ],
   "source": [
    "#test\n",
    "CustomerDemographic_df['gender'].value_counts()"
   ]
  },
  {
   "cell_type": "code",
   "execution_count": 69,
   "id": "eff54450",
   "metadata": {},
   "outputs": [],
   "source": [
    "#code \n",
    "CustomerDemographic_df['state'].replace({'Victoria':'VIC', 'New South Wales': 'NSW'}, inplace=True)"
   ]
  },
  {
   "cell_type": "code",
   "execution_count": 70,
   "id": "8453fee1",
   "metadata": {},
   "outputs": [
    {
     "data": {
      "text/plain": [
       "NSW    2088\n",
       "VIC     997\n",
       "QLD     822\n",
       "Name: state, dtype: int64"
      ]
     },
     "execution_count": 70,
     "metadata": {},
     "output_type": "execute_result"
    }
   ],
   "source": [
    "#test\n",
    "CustomerDemographic_df['state'].value_counts()"
   ]
  },
  {
   "cell_type": "code",
   "execution_count": 71,
   "id": "92df9dda",
   "metadata": {},
   "outputs": [
    {
     "name": "stdout",
     "output_type": "stream",
     "text": [
      "<class 'pandas.core.frame.DataFrame'>\n",
      "Int64Index: 3907 entries, 0 to 3999\n",
      "Data columns (total 17 columns):\n",
      " #   Column                               Non-Null Count  Dtype         \n",
      "---  ------                               --------------  -----         \n",
      " 0   customer_id                          3907 non-null   int64         \n",
      " 1   first_name                           3907 non-null   object        \n",
      " 2   last_name                            3907 non-null   object        \n",
      " 3   gender                               3907 non-null   category      \n",
      " 4   past_3_years_bike_related_purchases  3907 non-null   int64         \n",
      " 5   DOB                                  3907 non-null   datetime64[ns]\n",
      " 6   job_title                            3907 non-null   object        \n",
      " 7   job_industry_category                3907 non-null   category      \n",
      " 8   wealth_segment                       3907 non-null   category      \n",
      " 9   deceased_indicator                   3907 non-null   object        \n",
      " 10  owns_car                             3907 non-null   category      \n",
      " 11  tenure                               3907 non-null   int64         \n",
      " 12  address                              3907 non-null   object        \n",
      " 13  postcode                             3907 non-null   int64         \n",
      " 14  state                                3907 non-null   category      \n",
      " 15  country                              3907 non-null   object        \n",
      " 16  property_valuation                   3907 non-null   int64         \n",
      "dtypes: category(5), datetime64[ns](1), int64(5), object(6)\n",
      "memory usage: 416.8+ KB\n"
     ]
    }
   ],
   "source": [
    "CustomerDemographic_df.info()"
   ]
  },
  {
   "cell_type": "markdown",
   "id": "865650db",
   "metadata": {},
   "source": [
    "### Define\n",
    "- replace missing with 'no data' in order_status\n",
    "- drop the remaining missing values which is (0.98%) of overall data\n",
    "- Convert the categorical data into category datatype\n",
    "- Convert the 'product_first_sold_date' column, which contains Excel serial numbers, to datetime\n",
    "- Remove the customer_id 5034, which is not available in the CustomerDemographic_df\n",
    "\n",
    "### Achive\n",
    "- After data cleaning, I was able to save 35% of memory in Transactions_df table"
   ]
  },
  {
   "cell_type": "code",
   "execution_count": 72,
   "id": "025b07e0",
   "metadata": {},
   "outputs": [
    {
     "name": "stdout",
     "output_type": "stream",
     "text": [
      "<class 'pandas.core.frame.DataFrame'>\n",
      "RangeIndex: 20000 entries, 0 to 19999\n",
      "Data columns (total 13 columns):\n",
      " #   Column                   Non-Null Count  Dtype         \n",
      "---  ------                   --------------  -----         \n",
      " 0   transaction_id           20000 non-null  int64         \n",
      " 1   product_id               20000 non-null  int64         \n",
      " 2   customer_id              20000 non-null  int64         \n",
      " 3   transaction_date         20000 non-null  datetime64[ns]\n",
      " 4   online_order             20000 non-null  object        \n",
      " 5   order_status             20000 non-null  object        \n",
      " 6   brand                    19803 non-null  object        \n",
      " 7   product_line             19803 non-null  object        \n",
      " 8   product_class            19803 non-null  object        \n",
      " 9   product_size             19803 non-null  object        \n",
      " 10  list_price               20000 non-null  float64       \n",
      " 11  standard_cost            19803 non-null  float64       \n",
      " 12  product_first_sold_date  19803 non-null  float64       \n",
      "dtypes: datetime64[ns](1), float64(3), int64(3), object(6)\n",
      "memory usage: 2.0+ MB\n"
     ]
    }
   ],
   "source": [
    "Transactions_df.info()"
   ]
  },
  {
   "cell_type": "code",
   "execution_count": 73,
   "id": "655b8656",
   "metadata": {},
   "outputs": [],
   "source": [
    "#code\n",
    "Transactions_df['online_order'].fillna('no data', inplace=True)\n",
    "Transactions_df = Transactions_df.dropna()"
   ]
  },
  {
   "cell_type": "code",
   "execution_count": 74,
   "id": "8e61c635",
   "metadata": {},
   "outputs": [
    {
     "data": {
      "text/plain": [
       "transaction_id             0\n",
       "product_id                 0\n",
       "customer_id                0\n",
       "transaction_date           0\n",
       "online_order               0\n",
       "order_status               0\n",
       "brand                      0\n",
       "product_line               0\n",
       "product_class              0\n",
       "product_size               0\n",
       "list_price                 0\n",
       "standard_cost              0\n",
       "product_first_sold_date    0\n",
       "dtype: int64"
      ]
     },
     "execution_count": 74,
     "metadata": {},
     "output_type": "execute_result"
    }
   ],
   "source": [
    "#test \n",
    "Transactions_df.isnull().sum()"
   ]
  },
  {
   "cell_type": "code",
   "execution_count": 75,
   "id": "3ed66a00",
   "metadata": {},
   "outputs": [],
   "source": [
    "#code\n",
    "dtype_t = {'online_order': 'category', 'order_status': 'category', 'brand': 'category', 'product_line': 'category'\n",
    "           , 'product_class': 'category', 'product_size': 'category'}\n",
    "\n",
    "Transactions_df = Transactions_df.astype(dtype_t)"
   ]
  },
  {
   "cell_type": "code",
   "execution_count": 76,
   "id": "990c0037",
   "metadata": {},
   "outputs": [
    {
     "name": "stdout",
     "output_type": "stream",
     "text": [
      "<class 'pandas.core.frame.DataFrame'>\n",
      "Int64Index: 19803 entries, 0 to 19999\n",
      "Data columns (total 13 columns):\n",
      " #   Column                   Non-Null Count  Dtype         \n",
      "---  ------                   --------------  -----         \n",
      " 0   transaction_id           19803 non-null  int64         \n",
      " 1   product_id               19803 non-null  int64         \n",
      " 2   customer_id              19803 non-null  int64         \n",
      " 3   transaction_date         19803 non-null  datetime64[ns]\n",
      " 4   online_order             19803 non-null  category      \n",
      " 5   order_status             19803 non-null  category      \n",
      " 6   brand                    19803 non-null  category      \n",
      " 7   product_line             19803 non-null  category      \n",
      " 8   product_class            19803 non-null  category      \n",
      " 9   product_size             19803 non-null  category      \n",
      " 10  list_price               19803 non-null  float64       \n",
      " 11  standard_cost            19803 non-null  float64       \n",
      " 12  product_first_sold_date  19803 non-null  float64       \n",
      "dtypes: category(6), datetime64[ns](1), float64(3), int64(3)\n",
      "memory usage: 1.3 MB\n"
     ]
    }
   ],
   "source": [
    "#test\n",
    "Transactions_df.info()"
   ]
  },
  {
   "cell_type": "code",
   "execution_count": 77,
   "id": "28efcef1",
   "metadata": {},
   "outputs": [],
   "source": [
    "#code\n",
    "# Convert the Excel serial numbers to datetime\n",
    "Transactions_df['product_first_sold_date'] = pd.to_datetime(Transactions_df['product_first_sold_date'], origin='1900-01-01', unit='D')"
   ]
  },
  {
   "cell_type": "code",
   "execution_count": 78,
   "id": "46d89c89",
   "metadata": {},
   "outputs": [
    {
     "name": "stdout",
     "output_type": "stream",
     "text": [
      "<class 'pandas.core.frame.DataFrame'>\n",
      "Int64Index: 19803 entries, 0 to 19999\n",
      "Data columns (total 13 columns):\n",
      " #   Column                   Non-Null Count  Dtype         \n",
      "---  ------                   --------------  -----         \n",
      " 0   transaction_id           19803 non-null  int64         \n",
      " 1   product_id               19803 non-null  int64         \n",
      " 2   customer_id              19803 non-null  int64         \n",
      " 3   transaction_date         19803 non-null  datetime64[ns]\n",
      " 4   online_order             19803 non-null  category      \n",
      " 5   order_status             19803 non-null  category      \n",
      " 6   brand                    19803 non-null  category      \n",
      " 7   product_line             19803 non-null  category      \n",
      " 8   product_class            19803 non-null  category      \n",
      " 9   product_size             19803 non-null  category      \n",
      " 10  list_price               19803 non-null  float64       \n",
      " 11  standard_cost            19803 non-null  float64       \n",
      " 12  product_first_sold_date  19803 non-null  datetime64[ns]\n",
      "dtypes: category(6), datetime64[ns](2), float64(2), int64(3)\n",
      "memory usage: 1.3 MB\n"
     ]
    }
   ],
   "source": [
    "#test\n",
    "Transactions_df.info()"
   ]
  },
  {
   "cell_type": "code",
   "execution_count": 79,
   "id": "25590f8c",
   "metadata": {},
   "outputs": [
    {
     "data": {
      "text/plain": [
       "0   2012-12-04\n",
       "1   2014-03-05\n",
       "2   1999-07-22\n",
       "Name: product_first_sold_date, dtype: datetime64[ns]"
      ]
     },
     "execution_count": 79,
     "metadata": {},
     "output_type": "execute_result"
    }
   ],
   "source": [
    "Transactions_df['product_first_sold_date'].head(3)"
   ]
  },
  {
   "cell_type": "code",
   "execution_count": 80,
   "id": "1dc89969",
   "metadata": {},
   "outputs": [],
   "source": [
    "#code\n",
    "Index_position = Transactions_df[Transactions_df['customer_id'] == 5034].index\n",
    "\n",
    "Transactions_df = Transactions_df.drop(Index_position)"
   ]
  },
  {
   "cell_type": "code",
   "execution_count": 81,
   "id": "c4ba9a5a",
   "metadata": {},
   "outputs": [
    {
     "data": {
      "text/plain": [
       "0"
      ]
     },
     "execution_count": 81,
     "metadata": {},
     "output_type": "execute_result"
    }
   ],
   "source": [
    "#test\n",
    "(Transactions_df['customer_id'] == 5034).sum()"
   ]
  },
  {
   "cell_type": "markdown",
   "id": "c3b26478",
   "metadata": {},
   "source": [
    "### Define\n",
    "- replace missing value from object col, and remove it from DOB col which is (1.7%) of overall data\n",
    "- change data-type into proper data-type to save memory and consistancy\n",
    "- drop the Unamed column\n",
    "\n",
    "### Achive\n",
    "- After data cleaning, I was able to save 40.71% of memory in NewCustomerList_df table"
   ]
  },
  {
   "cell_type": "code",
   "execution_count": 82,
   "id": "455b3c4e",
   "metadata": {},
   "outputs": [
    {
     "name": "stdout",
     "output_type": "stream",
     "text": [
      "<class 'pandas.core.frame.DataFrame'>\n",
      "RangeIndex: 1000 entries, 0 to 999\n",
      "Data columns (total 23 columns):\n",
      " #   Column                               Non-Null Count  Dtype         \n",
      "---  ------                               --------------  -----         \n",
      " 0   first_name                           1000 non-null   object        \n",
      " 1   last_name                            971 non-null    object        \n",
      " 2   gender                               1000 non-null   object        \n",
      " 3   past_3_years_bike_related_purchases  1000 non-null   int64         \n",
      " 4   DOB                                  983 non-null    datetime64[ns]\n",
      " 5   job_title                            894 non-null    object        \n",
      " 6   job_industry_category                835 non-null    object        \n",
      " 7   wealth_segment                       1000 non-null   object        \n",
      " 8   deceased_indicator                   1000 non-null   object        \n",
      " 9   owns_car                             1000 non-null   object        \n",
      " 10  tenure                               1000 non-null   int64         \n",
      " 11  address                              1000 non-null   object        \n",
      " 12  postcode                             1000 non-null   int64         \n",
      " 13  state                                1000 non-null   object        \n",
      " 14  country                              1000 non-null   object        \n",
      " 15  property_valuation                   1000 non-null   int64         \n",
      " 16  Unnamed: 16                          1000 non-null   float64       \n",
      " 17  Unnamed: 17                          1000 non-null   float64       \n",
      " 18  Unnamed: 18                          1000 non-null   float64       \n",
      " 19  Unnamed: 19                          1000 non-null   float64       \n",
      " 20  Unnamed: 20                          1000 non-null   int64         \n",
      " 21  Rank                                 1000 non-null   int64         \n",
      " 22  Value                                1000 non-null   float64       \n",
      "dtypes: datetime64[ns](1), float64(5), int64(6), object(11)\n",
      "memory usage: 179.8+ KB\n"
     ]
    }
   ],
   "source": [
    "NewCustomerList_df.info()"
   ]
  },
  {
   "cell_type": "code",
   "execution_count": 83,
   "id": "44108fad",
   "metadata": {},
   "outputs": [],
   "source": [
    "#code\n",
    "NewCustomerList_df[['last_name','job_title','job_industry_category']]= NewCustomerList_df[['last_name','job_title','job_industry_category']].fillna('no data')\n",
    "NewCustomerList_df = NewCustomerList_df.dropna()"
   ]
  },
  {
   "cell_type": "code",
   "execution_count": 84,
   "id": "7623a744",
   "metadata": {},
   "outputs": [
    {
     "data": {
      "text/plain": [
       "first_name                             0\n",
       "last_name                              0\n",
       "gender                                 0\n",
       "past_3_years_bike_related_purchases    0\n",
       "DOB                                    0\n",
       "job_title                              0\n",
       "job_industry_category                  0\n",
       "wealth_segment                         0\n",
       "deceased_indicator                     0\n",
       "owns_car                               0\n",
       "tenure                                 0\n",
       "address                                0\n",
       "postcode                               0\n",
       "state                                  0\n",
       "country                                0\n",
       "property_valuation                     0\n",
       "Unnamed: 16                            0\n",
       "Unnamed: 17                            0\n",
       "Unnamed: 18                            0\n",
       "Unnamed: 19                            0\n",
       "Unnamed: 20                            0\n",
       "Rank                                   0\n",
       "Value                                  0\n",
       "dtype: int64"
      ]
     },
     "execution_count": 84,
     "metadata": {},
     "output_type": "execute_result"
    }
   ],
   "source": [
    "#test\n",
    "NewCustomerList_df.isnull().sum()"
   ]
  },
  {
   "cell_type": "code",
   "execution_count": 85,
   "id": "494136f8",
   "metadata": {},
   "outputs": [],
   "source": [
    "#code\n",
    "dtype_NC = {'gender': 'category', 'job_industry_category': 'category', 'wealth_segment': 'category',\n",
    "              'deceased_indicator': 'category', 'owns_car': 'category', 'state': 'category'}\n",
    "\n",
    "NewCustomerList_df = NewCustomerList_df.astype(dtype_NC)"
   ]
  },
  {
   "cell_type": "code",
   "execution_count": 86,
   "id": "a153e878",
   "metadata": {},
   "outputs": [
    {
     "name": "stdout",
     "output_type": "stream",
     "text": [
      "<class 'pandas.core.frame.DataFrame'>\n",
      "Int64Index: 983 entries, 0 to 999\n",
      "Data columns (total 23 columns):\n",
      " #   Column                               Non-Null Count  Dtype         \n",
      "---  ------                               --------------  -----         \n",
      " 0   first_name                           983 non-null    object        \n",
      " 1   last_name                            983 non-null    object        \n",
      " 2   gender                               983 non-null    category      \n",
      " 3   past_3_years_bike_related_purchases  983 non-null    int64         \n",
      " 4   DOB                                  983 non-null    datetime64[ns]\n",
      " 5   job_title                            983 non-null    object        \n",
      " 6   job_industry_category                983 non-null    category      \n",
      " 7   wealth_segment                       983 non-null    category      \n",
      " 8   deceased_indicator                   983 non-null    category      \n",
      " 9   owns_car                             983 non-null    category      \n",
      " 10  tenure                               983 non-null    int64         \n",
      " 11  address                              983 non-null    object        \n",
      " 12  postcode                             983 non-null    int64         \n",
      " 13  state                                983 non-null    category      \n",
      " 14  country                              983 non-null    object        \n",
      " 15  property_valuation                   983 non-null    int64         \n",
      " 16  Unnamed: 16                          983 non-null    float64       \n",
      " 17  Unnamed: 17                          983 non-null    float64       \n",
      " 18  Unnamed: 18                          983 non-null    float64       \n",
      " 19  Unnamed: 19                          983 non-null    float64       \n",
      " 20  Unnamed: 20                          983 non-null    int64         \n",
      " 21  Rank                                 983 non-null    int64         \n",
      " 22  Value                                983 non-null    float64       \n",
      "dtypes: category(6), datetime64[ns](1), float64(5), int64(6), object(5)\n",
      "memory usage: 145.0+ KB\n"
     ]
    }
   ],
   "source": [
    "#test\n",
    "NewCustomerList_df.info()"
   ]
  },
  {
   "cell_type": "code",
   "execution_count": 87,
   "id": "ea101d8d",
   "metadata": {},
   "outputs": [],
   "source": [
    "#code\n",
    "NewCustomerList_df=NewCustomerList_df.drop(columns=['Unnamed: 16','Unnamed: 17','Unnamed: 18','Unnamed: 19','Unnamed: 20'])"
   ]
  },
  {
   "cell_type": "code",
   "execution_count": 88,
   "id": "d92506d2",
   "metadata": {},
   "outputs": [
    {
     "name": "stdout",
     "output_type": "stream",
     "text": [
      "<class 'pandas.core.frame.DataFrame'>\n",
      "Int64Index: 983 entries, 0 to 999\n",
      "Data columns (total 18 columns):\n",
      " #   Column                               Non-Null Count  Dtype         \n",
      "---  ------                               --------------  -----         \n",
      " 0   first_name                           983 non-null    object        \n",
      " 1   last_name                            983 non-null    object        \n",
      " 2   gender                               983 non-null    category      \n",
      " 3   past_3_years_bike_related_purchases  983 non-null    int64         \n",
      " 4   DOB                                  983 non-null    datetime64[ns]\n",
      " 5   job_title                            983 non-null    object        \n",
      " 6   job_industry_category                983 non-null    category      \n",
      " 7   wealth_segment                       983 non-null    category      \n",
      " 8   deceased_indicator                   983 non-null    category      \n",
      " 9   owns_car                             983 non-null    category      \n",
      " 10  tenure                               983 non-null    int64         \n",
      " 11  address                              983 non-null    object        \n",
      " 12  postcode                             983 non-null    int64         \n",
      " 13  state                                983 non-null    category      \n",
      " 14  country                              983 non-null    object        \n",
      " 15  property_valuation                   983 non-null    int64         \n",
      " 16  Rank                                 983 non-null    int64         \n",
      " 17  Value                                983 non-null    float64       \n",
      "dtypes: category(6), datetime64[ns](1), float64(1), int64(5), object(5)\n",
      "memory usage: 106.6+ KB\n"
     ]
    }
   ],
   "source": [
    "#test\n",
    "NewCustomerList_df.info()"
   ]
  },
  {
   "cell_type": "markdown",
   "id": "c69eddcd",
   "metadata": {},
   "source": [
    "# Export the Data to Excel\n",
    "### Now Data is clean time to export it so use it for EDA"
   ]
  },
  {
   "cell_type": "code",
   "execution_count": 89,
   "id": "f1db493f",
   "metadata": {},
   "outputs": [],
   "source": [
    "with pd.ExcelWriter(\"KMPG_transform_data.xlsx\") as writer:\n",
    "    CustomerDemographic_df.to_excel(writer, sheet_name=\"CustomerDemographic_df\", index= False)  \n",
    "    Transactions_df.to_excel(writer, sheet_name=\"Transactions_df\", index= False)\n",
    "    NewCustomerList_df.to_excel(writer, sheet_name=\"NewCustomerList_df\", index= False)"
   ]
  },
  {
   "cell_type": "code",
   "execution_count": null,
   "id": "d2a14262",
   "metadata": {},
   "outputs": [],
   "source": []
  }
 ],
 "metadata": {
  "kernelspec": {
   "display_name": "Python 3 (ipykernel)",
   "language": "python",
   "name": "python3"
  },
  "language_info": {
   "codemirror_mode": {
    "name": "ipython",
    "version": 3
   },
   "file_extension": ".py",
   "mimetype": "text/x-python",
   "name": "python",
   "nbconvert_exporter": "python",
   "pygments_lexer": "ipython3",
   "version": "3.11.4"
  }
 },
 "nbformat": 4,
 "nbformat_minor": 5
}
